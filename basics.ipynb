{
  "nbformat": 4,
  "nbformat_minor": 0,
  "metadata": {
    "colab": {
      "provenance": []
    },
    "kernelspec": {
      "name": "python3",
      "display_name": "Python 3"
    },
    "language_info": {
      "name": "python"
    }
  },
  "cells": [
    {
      "cell_type": "code",
      "execution_count": 104,
      "metadata": {
        "id": "UubeSgIK7SUN"
      },
      "outputs": [],
      "source": [
        "x = 2"
      ]
    },
    {
      "cell_type": "code",
      "source": [
        "print (x)"
      ],
      "metadata": {
        "colab": {
          "base_uri": "https://localhost:8080/"
        },
        "id": "LbvbuBcF7sSP",
        "outputId": "8d2ea6c1-b865-495e-94b7-05fba9ddd78f"
      },
      "execution_count": 105,
      "outputs": [
        {
          "output_type": "stream",
          "name": "stdout",
          "text": [
            "2\n"
          ]
        }
      ]
    },
    {
      "cell_type": "code",
      "source": [
        "type(x)"
      ],
      "metadata": {
        "colab": {
          "base_uri": "https://localhost:8080/"
        },
        "id": "v0KCNnRo73PA",
        "outputId": "fa0a5c52-d5ad-47ca-ee64-790b70bb0bf0"
      },
      "execution_count": 106,
      "outputs": [
        {
          "output_type": "execute_result",
          "data": {
            "text/plain": [
              "int"
            ]
          },
          "metadata": {},
          "execution_count": 106
        }
      ]
    },
    {
      "cell_type": "code",
      "source": [
        "id(x)"
      ],
      "metadata": {
        "colab": {
          "base_uri": "https://localhost:8080/"
        },
        "id": "j7dIJnvJ79q4",
        "outputId": "28f06c55-be7c-4a01-8d6d-2668096d18c5"
      },
      "execution_count": 107,
      "outputs": [
        {
          "output_type": "execute_result",
          "data": {
            "text/plain": [
              "140064028147984"
            ]
          },
          "metadata": {},
          "execution_count": 107
        }
      ]
    },
    {
      "cell_type": "code",
      "source": [
        "name = input('whatis your name?')"
      ],
      "metadata": {
        "colab": {
          "base_uri": "https://localhost:8080/"
        },
        "id": "dSkiPQb_8w_k",
        "outputId": "89a11b37-2f5a-45a7-a1c0-ee5ede4f6c8d"
      },
      "execution_count": 108,
      "outputs": [
        {
          "name": "stdout",
          "output_type": "stream",
          "text": [
            "whatis your name?Ayush\n"
          ]
        }
      ]
    },
    {
      "cell_type": "code",
      "source": [
        "#print(name)\n",
        "type(name)"
      ],
      "metadata": {
        "colab": {
          "base_uri": "https://localhost:8080/"
        },
        "id": "DK3tfCS09HPB",
        "outputId": "0be0c3f5-3f92-4b7c-cc24-cdcfa659b763"
      },
      "execution_count": 109,
      "outputs": [
        {
          "output_type": "execute_result",
          "data": {
            "text/plain": [
              "str"
            ]
          },
          "metadata": {},
          "execution_count": 109
        }
      ]
    },
    {
      "cell_type": "code",
      "source": [
        "#value=int(input(\"enter marks=\"))\n",
        "value=float(input(\"enter marks=\"))"
      ],
      "metadata": {
        "colab": {
          "base_uri": "https://localhost:8080/"
        },
        "id": "5rzkA5WQ9U2g",
        "outputId": "d1105625-415f-402c-baef-bb78755ad801"
      },
      "execution_count": 110,
      "outputs": [
        {
          "name": "stdout",
          "output_type": "stream",
          "text": [
            "enter marks= 78\n"
          ]
        }
      ]
    },
    {
      "cell_type": "code",
      "source": [
        "print(value)"
      ],
      "metadata": {
        "colab": {
          "base_uri": "https://localhost:8080/"
        },
        "id": "LM4lhjrI9qQW",
        "outputId": "27777b94-597d-44f9-819e-0f28db0c5d41"
      },
      "execution_count": 111,
      "outputs": [
        {
          "output_type": "stream",
          "name": "stdout",
          "text": [
            "78.0\n"
          ]
        }
      ]
    },
    {
      "cell_type": "markdown",
      "source": [
        "## Set"
      ],
      "metadata": {
        "id": "y0-XIKakQuDY"
      }
    },
    {
      "cell_type": "code",
      "source": [
        "# Create two sets\n",
        "set1 = {1, 2, 3, 4, 5}\n",
        "set2 = {4, 5, 6, 7, 8}\n",
        "\n",
        "print(\"Set 1:\", set1)\n",
        "print(\"Set 2:\", set2)\n",
        "\n"
      ],
      "metadata": {
        "colab": {
          "base_uri": "https://localhost:8080/"
        },
        "id": "267lTqDe99Qp",
        "outputId": "e4855fcf-5247-4f4e-d6b1-aa80166c55e7"
      },
      "execution_count": 112,
      "outputs": [
        {
          "output_type": "stream",
          "name": "stdout",
          "text": [
            "Set 1: {1, 2, 3, 4, 5}\n",
            "Set 2: {4, 5, 6, 7, 8}\n"
          ]
        }
      ]
    },
    {
      "cell_type": "code",
      "source": [
        "# Union of two sets\n",
        "union_set = set1 | set2\n",
        "print(\"Union of Set 1 and Set 2:\", union_set)\n",
        "\n",
        "# Intersection of two sets\n",
        "intersection_set = set1 & set2\n",
        "print(\"Intersection of Set 1 and Set 2:\", intersection_set)\n",
        "\n"
      ],
      "metadata": {
        "colab": {
          "base_uri": "https://localhost:8080/"
        },
        "id": "gNUTgK1UmnTN",
        "outputId": "555e535b-e823-4a56-a6b5-e545255246b8"
      },
      "execution_count": 113,
      "outputs": [
        {
          "output_type": "stream",
          "name": "stdout",
          "text": [
            "Union of Set 1 and Set 2: {1, 2, 3, 4, 5, 6, 7, 8}\n",
            "Intersection of Set 1 and Set 2: {4, 5}\n"
          ]
        }
      ]
    },
    {
      "cell_type": "code",
      "source": [
        "# Add an element to a set\n",
        "set1.add(9)\n",
        "print(\"Set 1 after adding 9:\", set1)\n",
        "\n",
        "# Remove an element from a set\n",
        "set1.remove(4)\n",
        "print(\"Set 1 after removing 4:\", set1)\n"
      ],
      "metadata": {
        "id": "9vDdZtgy-xDQ",
        "colab": {
          "base_uri": "https://localhost:8080/"
        },
        "outputId": "3a0399b8-87ed-400b-fc5e-20b2468c64fd"
      },
      "execution_count": 114,
      "outputs": [
        {
          "output_type": "stream",
          "name": "stdout",
          "text": [
            "Set 1 after adding 9: {1, 2, 3, 4, 5, 9}\n",
            "Set 1 after removing 4: {1, 2, 3, 5, 9}\n"
          ]
        }
      ]
    },
    {
      "cell_type": "code",
      "source": [
        "# Check if an element is in a set\n",
        "print(\"Is 3 in Set 1?\", 3 in set1)\n",
        "\n",
        "# Check if an element is not in a set\n",
        "print(\"Is 10 not in Set 1?\", 10 not in set1)\n"
      ],
      "metadata": {
        "colab": {
          "base_uri": "https://localhost:8080/"
        },
        "id": "DUg-yE22Yv1V",
        "outputId": "cd0a88ef-6004-4982-a359-1a7a38d80551"
      },
      "execution_count": 115,
      "outputs": [
        {
          "output_type": "stream",
          "name": "stdout",
          "text": [
            "Is 3 in Set 1? True\n",
            "Is 10 not in Set 1? True\n"
          ]
        }
      ]
    },
    {
      "cell_type": "code",
      "source": [
        "# Clear a set\n",
        "set1.clear()\n",
        "print(\"Set 1 after clearing:\", set1)"
      ],
      "metadata": {
        "colab": {
          "base_uri": "https://localhost:8080/"
        },
        "id": "CqBcnX0eYzgq",
        "outputId": "77ea904d-1564-4f21-cc27-5e76ad1446f7"
      },
      "execution_count": 116,
      "outputs": [
        {
          "output_type": "stream",
          "name": "stdout",
          "text": [
            "Set 1 after clearing: set()\n"
          ]
        }
      ]
    },
    {
      "cell_type": "markdown",
      "source": [
        "## List"
      ],
      "metadata": {
        "id": "zmwOk5CPQzq4"
      }
    },
    {
      "cell_type": "code",
      "source": [
        "list =[10,20,30,40]\n",
        "list.remove(30) # remove specific element\n",
        "list\n"
      ],
      "metadata": {
        "id": "I30g2UI_mqUY",
        "colab": {
          "base_uri": "https://localhost:8080/"
        },
        "outputId": "1df5e0a8-81e2-4328-d936-181946a749a1"
      },
      "execution_count": 117,
      "outputs": [
        {
          "output_type": "execute_result",
          "data": {
            "text/plain": [
              "[10, 20, 40]"
            ]
          },
          "metadata": {},
          "execution_count": 117
        }
      ]
    },
    {
      "cell_type": "code",
      "source": [
        "list.pop(1) #use to remove element from desired position\n",
        "list"
      ],
      "metadata": {
        "colab": {
          "base_uri": "https://localhost:8080/"
        },
        "id": "ZCNIbyacSL_V",
        "outputId": "283d0ea8-c3b6-4f2c-d681-7282ce23312e"
      },
      "execution_count": 118,
      "outputs": [
        {
          "output_type": "execute_result",
          "data": {
            "text/plain": [
              "[10, 40]"
            ]
          },
          "metadata": {},
          "execution_count": 118
        }
      ]
    },
    {
      "cell_type": "code",
      "source": [
        "list.clear() # clear all the element\n",
        "list"
      ],
      "metadata": {
        "colab": {
          "base_uri": "https://localhost:8080/"
        },
        "id": "pwYQhYi7SQ8r",
        "outputId": "01dfd28c-9212-45ca-ad25-46eae6fcb07b"
      },
      "execution_count": 119,
      "outputs": [
        {
          "output_type": "execute_result",
          "data": {
            "text/plain": [
              "[]"
            ]
          },
          "metadata": {},
          "execution_count": 119
        }
      ]
    },
    {
      "cell_type": "code",
      "source": [
        "L=[3,4,5]\n",
        "L.append(8) # add an element\n",
        "L\n",
        "L.extend([7,8,9]) # use to add more than 1 elememt\n",
        "L\n",
        "\n"
      ],
      "metadata": {
        "colab": {
          "base_uri": "https://localhost:8080/"
        },
        "id": "2hhaiFCpqaJk",
        "outputId": "95f706e8-3e09-418f-e293-79d44fda066d"
      },
      "execution_count": 120,
      "outputs": [
        {
          "output_type": "execute_result",
          "data": {
            "text/plain": [
              "[3, 4, 5, 8, 7, 8, 9]"
            ]
          },
          "metadata": {},
          "execution_count": 120
        }
      ]
    },
    {
      "cell_type": "code",
      "source": [
        "L.insert(2,9)\n",
        "len(L)\n",
        "L.index(4)"
      ],
      "metadata": {
        "colab": {
          "base_uri": "https://localhost:8080/"
        },
        "id": "3IRnb1QrsQhO",
        "outputId": "e513c0ca-64ab-4e57-ad06-51e522c41a5e"
      },
      "execution_count": 121,
      "outputs": [
        {
          "output_type": "execute_result",
          "data": {
            "text/plain": [
              "1"
            ]
          },
          "metadata": {},
          "execution_count": 121
        }
      ]
    },
    {
      "cell_type": "code",
      "source": [
        "old_list= [1,2,3,4]\n",
        "new_list=old_list\n",
        "new_list.append(5)\n",
        "new_list\n",
        "old_list\n",
        "new_list= old_list.copy() # use to copy\n",
        "old_list"
      ],
      "metadata": {
        "colab": {
          "base_uri": "https://localhost:8080/"
        },
        "id": "FOS1pluRs0Nl",
        "outputId": "0d776053-8ece-467b-93f1-a880ae7c3805"
      },
      "execution_count": 122,
      "outputs": [
        {
          "output_type": "execute_result",
          "data": {
            "text/plain": [
              "[1, 2, 3, 4, 5]"
            ]
          },
          "metadata": {},
          "execution_count": 122
        }
      ]
    },
    {
      "cell_type": "code",
      "source": [
        "list=['Prakash' , 'x ', 1 ,2.0]\n",
        "new_list=list[0:2]\n",
        "new_list.append(8)\n",
        "new_list"
      ],
      "metadata": {
        "colab": {
          "base_uri": "https://localhost:8080/"
        },
        "id": "GlQRCa23uUHo",
        "outputId": "46d4abbf-5e4d-4ade-f142-7cbd79e0097b"
      },
      "execution_count": 123,
      "outputs": [
        {
          "output_type": "execute_result",
          "data": {
            "text/plain": [
              "['Prakash', 'x ', 8]"
            ]
          },
          "metadata": {},
          "execution_count": 123
        }
      ]
    },
    {
      "cell_type": "code",
      "source": [
        "message=\" welcome to ims \"\n",
        "message.split() #split the text\n",
        "message.replace('o','0') #use to replace words"
      ],
      "metadata": {
        "colab": {
          "base_uri": "https://localhost:8080/",
          "height": 36
        },
        "id": "KRxc0dvwvV0H",
        "outputId": "010d53c5-6c0a-4f5e-89b4-51bd1499d6bd"
      },
      "execution_count": 124,
      "outputs": [
        {
          "output_type": "execute_result",
          "data": {
            "text/plain": [
              "' welc0me t0 ims '"
            ],
            "application/vnd.google.colaboratory.intrinsic+json": {
              "type": "string"
            }
          },
          "metadata": {},
          "execution_count": 124
        }
      ]
    },
    {
      "cell_type": "code",
      "source": [
        "x = 'bread'\n",
        "if (x=='bread'):\n",
        "  print('this is my breakfast')"
      ],
      "metadata": {
        "colab": {
          "base_uri": "https://localhost:8080/"
        },
        "id": "haMtqLbokUFw",
        "outputId": "a866a099-ffd7-442b-be56-5ea86deb7451"
      },
      "execution_count": 125,
      "outputs": [
        {
          "output_type": "stream",
          "name": "stdout",
          "text": [
            "this is my breakfast\n"
          ]
        }
      ]
    },
    {
      "cell_type": "code",
      "source": [
        "a= 10\n",
        "b= 20\n",
        "#if(b>a):\n",
        "#  print('b is greater than a')\n",
        "# if(b>a):print('a is less than a ')\n",
        "#else:\n",
        "#  print(\"A is less than B\")\n",
        "print('a')if(a>b)else print('b')"
      ],
      "metadata": {
        "colab": {
          "base_uri": "https://localhost:8080/"
        },
        "id": "vyc8bb7Ikx0F",
        "outputId": "5b2c81d5-d56b-4d10-82d4-793f244b2d97"
      },
      "execution_count": 126,
      "outputs": [
        {
          "output_type": "stream",
          "name": "stdout",
          "text": [
            "b\n"
          ]
        }
      ]
    },
    {
      "cell_type": "code",
      "source": [
        "x=2\n",
        "y=3\n",
        "z=4\n",
        "if (x>y):\n",
        "   print('x greater')\n",
        "elif(x<z):\n",
        "   print('z is greater than x and y ')\n",
        "else:\n",
        "   print('y is greater')"
      ],
      "metadata": {
        "colab": {
          "base_uri": "https://localhost:8080/"
        },
        "id": "F2F7s0bkmqqx",
        "outputId": "67b27a06-a204-4677-a2b2-4a6b2badd85d"
      },
      "execution_count": 127,
      "outputs": [
        {
          "output_type": "stream",
          "name": "stdout",
          "text": [
            "z is greater than x and y \n"
          ]
        }
      ]
    },
    {
      "cell_type": "code",
      "source": [
        "x=int(input(\"enter number\"))\n",
        "if(x%2==0):\n",
        "  print('x is even')\n",
        "else:\n",
        "  print('x is odd')"
      ],
      "metadata": {
        "colab": {
          "base_uri": "https://localhost:8080/"
        },
        "id": "pzsaxH_gozsC",
        "outputId": "24a24c5e-bf9a-4c0d-e9e5-002b58441a97"
      },
      "execution_count": 128,
      "outputs": [
        {
          "output_type": "stream",
          "name": "stdout",
          "text": [
            "enter number1\n",
            "x is odd\n"
          ]
        }
      ]
    },
    {
      "cell_type": "code",
      "source": [
        "x=0\n",
        "while(x<=10):  #int i,  x>0; ;<i++\n",
        "  print(x)\n",
        "  x=x+1\n",
        "  x\n",
        "\n",
        "\n"
      ],
      "metadata": {
        "colab": {
          "base_uri": "https://localhost:8080/"
        },
        "id": "BXUph1y5qEsv",
        "outputId": "96315fd0-1e7d-4724-bb82-b0cba4c6e388"
      },
      "execution_count": 129,
      "outputs": [
        {
          "output_type": "stream",
          "name": "stdout",
          "text": [
            "0\n",
            "1\n",
            "2\n",
            "3\n",
            "4\n",
            "5\n",
            "6\n",
            "7\n",
            "8\n",
            "9\n",
            "10\n"
          ]
        }
      ]
    },
    {
      "cell_type": "code",
      "source": [
        "#horizontally\n",
        "a=0\n",
        "b=10\n",
        "while(a<b):\n",
        "  print(a, end=\" \")\n",
        "  a+=1"
      ],
      "metadata": {
        "colab": {
          "base_uri": "https://localhost:8080/"
        },
        "id": "AG9Al_s7rGhl",
        "outputId": "77c46dd6-2d7f-4ecb-ae7b-577eb34076f7"
      },
      "execution_count": 130,
      "outputs": [
        {
          "output_type": "stream",
          "name": "stdout",
          "text": [
            "0 1 2 3 4 5 6 7 8 9 "
          ]
        }
      ]
    },
    {
      "cell_type": "code",
      "source": [
        "name='kishi'\n",
        "while(name):\n",
        "  print(name)\n",
        "  name=name[1:] #displaying string after striking off each character"
      ],
      "metadata": {
        "colab": {
          "base_uri": "https://localhost:8080/"
        },
        "id": "CXsNMbq0sdpL",
        "outputId": "80ec1f89-259d-4e92-bd70-c1f20351b9da"
      },
      "execution_count": 131,
      "outputs": [
        {
          "output_type": "stream",
          "name": "stdout",
          "text": [
            "kishi\n",
            "ishi\n",
            "shi\n",
            "hi\n",
            "i\n"
          ]
        }
      ]
    },
    {
      "cell_type": "code",
      "source": [
        "s= \"hello\"\n",
        "for v in s:\n",
        "  print(v)"
      ],
      "metadata": {
        "colab": {
          "base_uri": "https://localhost:8080/"
        },
        "id": "lCC9HWALt5Wu",
        "outputId": "591ff572-ba10-4102-bff5-b94242716e13"
      },
      "execution_count": 132,
      "outputs": [
        {
          "output_type": "stream",
          "name": "stdout",
          "text": [
            "h\n",
            "e\n",
            "l\n",
            "l\n",
            "o\n"
          ]
        }
      ]
    },
    {
      "cell_type": "code",
      "source": [
        "x=2\n",
        "x\n"
      ],
      "metadata": {
        "colab": {
          "base_uri": "https://localhost:8080/"
        },
        "id": "A7oOboV_dyNi",
        "outputId": "eb21165e-778a-4df5-dd94-ea28c18ae01b"
      },
      "execution_count": 133,
      "outputs": [
        {
          "output_type": "execute_result",
          "data": {
            "text/plain": [
              "2"
            ]
          },
          "metadata": {},
          "execution_count": 133
        }
      ]
    },
    {
      "cell_type": "code",
      "source": [
        "type(x)"
      ],
      "metadata": {
        "colab": {
          "base_uri": "https://localhost:8080/"
        },
        "id": "DzWPspuzdusw",
        "outputId": "c17ad881-4d7a-4785-833c-45b03770849f"
      },
      "execution_count": 134,
      "outputs": [
        {
          "output_type": "execute_result",
          "data": {
            "text/plain": [
              "int"
            ]
          },
          "metadata": {},
          "execution_count": 134
        }
      ]
    },
    {
      "cell_type": "code",
      "source": [
        "x = 4\n",
        "y = 11\n",
        "p= 5.0\n",
        "ans= x**(y%p)\n",
        "print(ans)"
      ],
      "metadata": {
        "colab": {
          "base_uri": "https://localhost:8080/"
        },
        "id": "MVrd-Ap6Utzx",
        "outputId": "b68d6876-1ed5-454b-ef69-18416a5fbec1"
      },
      "execution_count": 135,
      "outputs": [
        {
          "output_type": "stream",
          "name": "stdout",
          "text": [
            "4.0\n"
          ]
        }
      ]
    },
    {
      "cell_type": "code",
      "source": [
        "num=20.5\n",
        "z=3\n",
        "result=2+z*3+num//z\n",
        "print(result)"
      ],
      "metadata": {
        "colab": {
          "base_uri": "https://localhost:8080/"
        },
        "id": "XoesOZzNV5pl",
        "outputId": "bed09a5b-6232-4fc9-ca32-2fd79c4b350e"
      },
      "execution_count": 136,
      "outputs": [
        {
          "output_type": "stream",
          "name": "stdout",
          "text": [
            "17.0\n"
          ]
        }
      ]
    },
    {
      "cell_type": "code",
      "source": [
        "X=300\n",
        "Y= 17\n",
        "X%=Y\n",
        "print(X)"
      ],
      "metadata": {
        "colab": {
          "base_uri": "https://localhost:8080/"
        },
        "id": "14DcF-PV1qVh",
        "outputId": "a899e23e-05ae-4eb4-fb4f-1a8d8f3ef6d0"
      },
      "execution_count": 137,
      "outputs": [
        {
          "output_type": "stream",
          "name": "stdout",
          "text": [
            "11\n"
          ]
        }
      ]
    },
    {
      "cell_type": "code",
      "source": [
        " a = 'gOOd moRning'\n",
        "a.title( ) #use to make text in Arranged order as title"
      ],
      "metadata": {
        "id": "lTP1BB1N2LhZ",
        "colab": {
          "base_uri": "https://localhost:8080/",
          "height": 36
        },
        "outputId": "db9bec0a-7690-4692-fb7d-9692003d60b8"
      },
      "execution_count": 138,
      "outputs": [
        {
          "output_type": "execute_result",
          "data": {
            "text/plain": [
              "'Good Morning'"
            ],
            "application/vnd.google.colaboratory.intrinsic+json": {
              "type": "string"
            }
          },
          "metadata": {},
          "execution_count": 138
        }
      ]
    },
    {
      "cell_type": "code",
      "source": [
        "Mylist =['a', 'a', 'b', 'b', 'b', 'c', 'c', 'd', 'e']\n",
        "Mylist.index('d')"
      ],
      "metadata": {
        "colab": {
          "base_uri": "https://localhost:8080/"
        },
        "id": "PzbbwtF1r4pp",
        "outputId": "6efc9b3b-5e75-4951-e0d5-acc07b49ec00"
      },
      "execution_count": 139,
      "outputs": [
        {
          "output_type": "execute_result",
          "data": {
            "text/plain": [
              "7"
            ]
          },
          "metadata": {},
          "execution_count": 139
        }
      ]
    },
    {
      "cell_type": "code",
      "source": [
        "L1=[1,2,3,4,5]\n",
        "L2=[6,7,8,9,0]\n",
        "print('enter elements for first list:')\n",
        "for i in range(10):\n",
        "  n =int(input('enter a number'))\n",
        "  L1.append(n)\n"
      ],
      "metadata": {
        "colab": {
          "base_uri": "https://localhost:8080/"
        },
        "id": "HwuQXAXuOySr",
        "outputId": "1cc164a8-b1e0-45cf-f511-ba3203dd64d1"
      },
      "execution_count": 140,
      "outputs": [
        {
          "name": "stdout",
          "output_type": "stream",
          "text": [
            "enter elements for first list:\n",
            "enter a number1\n",
            "enter a number2\n",
            "enter a number3\n",
            "enter a number4\n",
            "enter a number5\n",
            "enter a number6\n",
            "enter a number7\n",
            "enter a number8\n",
            "enter a number9\n",
            "enter a number0\n"
          ]
        }
      ]
    },
    {
      "cell_type": "code",
      "source": [
        "print(\"enter elements for second list :\")\n",
        "for i in range (10):\n",
        "  n=int (input(\"enter a number\"))\n",
        "  L2.append(n)\n"
      ],
      "metadata": {
        "colab": {
          "base_uri": "https://localhost:8080/"
        },
        "id": "1yAj-5sjOzlD",
        "outputId": "d3d8f2c7-3c4e-4e7d-f479-16586f1628f5"
      },
      "execution_count": 141,
      "outputs": [
        {
          "name": "stdout",
          "output_type": "stream",
          "text": [
            "enter elements for second list :\n",
            "enter a number11\n",
            "enter a number12\n",
            "enter a number13\n",
            "enter a number14\n",
            "enter a number15\n",
            "enter a number16\n",
            "enter a number17\n",
            "enter a number18\n",
            "enter a number19\n",
            "enter a number20\n"
          ]
        }
      ]
    },
    {
      "cell_type": "code",
      "source": [
        "L3=L1+L2\n",
        "print(L3)"
      ],
      "metadata": {
        "colab": {
          "base_uri": "https://localhost:8080/"
        },
        "id": "xcmWfmw3PILZ",
        "outputId": "dc3cb389-f0e1-4e17-9342-b5e849002210"
      },
      "execution_count": 142,
      "outputs": [
        {
          "output_type": "stream",
          "name": "stdout",
          "text": [
            "[1, 2, 3, 4, 5, 1, 2, 3, 4, 5, 6, 7, 8, 9, 0, 6, 7, 8, 9, 0, 11, 12, 13, 14, 15, 16, 17, 18, 19, 20]\n"
          ]
        }
      ]
    },
    {
      "cell_type": "code",
      "source": [
        "L4=L3\n",
        "L4.sort()\n",
        "print(L4)\n"
      ],
      "metadata": {
        "colab": {
          "base_uri": "https://localhost:8080/"
        },
        "id": "JiZeSOTzPVXv",
        "outputId": "c4f04dc4-3098-48a6-f167-d5c13db98b57"
      },
      "execution_count": 143,
      "outputs": [
        {
          "output_type": "stream",
          "name": "stdout",
          "text": [
            "[0, 0, 1, 1, 2, 2, 3, 3, 4, 4, 5, 5, 6, 6, 7, 7, 8, 8, 9, 9, 11, 12, 13, 14, 15, 16, 17, 18, 19, 20]\n"
          ]
        }
      ]
    },
    {
      "cell_type": "code",
      "source": [
        "L4.reverse()\n",
        "print(L4)"
      ],
      "metadata": {
        "colab": {
          "base_uri": "https://localhost:8080/"
        },
        "id": "HOFXSuSlPYGC",
        "outputId": "9c60118e-c989-4b63-a592-d48e21f0fc90"
      },
      "execution_count": 144,
      "outputs": [
        {
          "output_type": "stream",
          "name": "stdout",
          "text": [
            "[20, 19, 18, 17, 16, 15, 14, 13, 12, 11, 9, 9, 8, 8, 7, 7, 6, 6, 5, 5, 4, 4, 3, 3, 2, 2, 1, 1, 0, 0]\n"
          ]
        }
      ]
    },
    {
      "cell_type": "markdown",
      "source": [
        "## Dictionary\n"
      ],
      "metadata": {
        "id": "xN-G0yUZQhHX"
      }
    },
    {
      "cell_type": "code",
      "source": [
        "d1={1:'amit', 2:'sumit', 3:'ravi'}\n",
        "marks={'amit':45,'sumit':55,'ravi':65 }\n",
        "print(d1[3])\n",
        "print(marks['sumit'])\n"
      ],
      "metadata": {
        "colab": {
          "base_uri": "https://localhost:8080/"
        },
        "id": "Wf5vktU7PdT9",
        "outputId": "57a43146-761e-4642-f359-b417fea3ed3a"
      },
      "execution_count": 145,
      "outputs": [
        {
          "output_type": "stream",
          "name": "stdout",
          "text": [
            "ravi\n",
            "55\n"
          ]
        }
      ]
    },
    {
      "cell_type": "code",
      "source": [
        "dict={1:'amit', 2:'sumit', 3:'ravi'}\n",
        "rn=int(input('enter a rollno'))\n",
        "print('name is',dict[rn])"
      ],
      "metadata": {
        "colab": {
          "base_uri": "https://localhost:8080/"
        },
        "id": "eofS_Z2XQbPK",
        "outputId": "48114909-2117-4f18-e1e5-dc73228aabd6"
      },
      "execution_count": 146,
      "outputs": [
        {
          "output_type": "stream",
          "name": "stdout",
          "text": [
            "enter a rollno 2\n",
            "name is sumit\n"
          ]
        }
      ]
    },
    {
      "cell_type": "code",
      "source": [],
      "metadata": {
        "id": "Y_q4-CAMQeuD"
      },
      "execution_count": null,
      "outputs": []
    }
  ]
}