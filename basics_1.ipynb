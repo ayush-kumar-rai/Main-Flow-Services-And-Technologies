{
  "nbformat": 4,
  "nbformat_minor": 0,
  "metadata": {
    "colab": {
      "provenance": []
    },
    "kernelspec": {
      "name": "python3",
      "display_name": "Python 3"
    },
    "language_info": {
      "name": "python"
    }
  },
  "cells": [
    {
      "cell_type": "code",
      "execution_count": 2,
      "metadata": {
        "id": "UubeSgIK7SUN"
      },
      "outputs": [],
      "source": [
        "x = 2"
      ]
    },
    {
      "cell_type": "code",
      "source": [
        "print (x)"
      ],
      "metadata": {
        "colab": {
          "base_uri": "https://localhost:8080/"
        },
        "id": "LbvbuBcF7sSP",
        "outputId": "4a3502d6-4d84-407f-e050-372b9aa25231"
      },
      "execution_count": 3,
      "outputs": [
        {
          "output_type": "stream",
          "name": "stdout",
          "text": [
            "2\n"
          ]
        }
      ]
    },
    {
      "cell_type": "code",
      "source": [
        "type(x)"
      ],
      "metadata": {
        "colab": {
          "base_uri": "https://localhost:8080/"
        },
        "id": "v0KCNnRo73PA",
        "outputId": "2713630c-e14c-4cb0-e485-d87acefcd15f"
      },
      "execution_count": 4,
      "outputs": [
        {
          "output_type": "execute_result",
          "data": {
            "text/plain": [
              "int"
            ]
          },
          "metadata": {},
          "execution_count": 4
        }
      ]
    },
    {
      "cell_type": "code",
      "source": [
        "id(x)"
      ],
      "metadata": {
        "colab": {
          "base_uri": "https://localhost:8080/"
        },
        "id": "j7dIJnvJ79q4",
        "outputId": "419afe77-075a-4752-9a17-eee3d64025ec"
      },
      "execution_count": 5,
      "outputs": [
        {
          "output_type": "execute_result",
          "data": {
            "text/plain": [
              "140064028147984"
            ]
          },
          "metadata": {},
          "execution_count": 5
        }
      ]
    },
    {
      "cell_type": "code",
      "source": [
        "name = input('whatis your name?')"
      ],
      "metadata": {
        "colab": {
          "base_uri": "https://localhost:8080/"
        },
        "id": "dSkiPQb_8w_k",
        "outputId": "9f80589e-7978-47ff-b4d0-2e4b5ae3d959"
      },
      "execution_count": 6,
      "outputs": [
        {
          "name": "stdout",
          "output_type": "stream",
          "text": [
            "whatis your name?Ayush\n"
          ]
        }
      ]
    },
    {
      "cell_type": "code",
      "source": [
        "#print(name)\n",
        "type(name)"
      ],
      "metadata": {
        "colab": {
          "base_uri": "https://localhost:8080/"
        },
        "id": "DK3tfCS09HPB",
        "outputId": "94c68515-1ad6-403c-a903-5daf021809d0"
      },
      "execution_count": 7,
      "outputs": [
        {
          "output_type": "execute_result",
          "data": {
            "text/plain": [
              "str"
            ]
          },
          "metadata": {},
          "execution_count": 7
        }
      ]
    },
    {
      "cell_type": "code",
      "source": [
        "#value=int(input(\"enter marks=\"))\n",
        "value=float(input(\"enter marks=\"))"
      ],
      "metadata": {
        "colab": {
          "base_uri": "https://localhost:8080/"
        },
        "id": "5rzkA5WQ9U2g",
        "outputId": "436aec69-128b-4ea0-d800-cab45770b450"
      },
      "execution_count": 8,
      "outputs": [
        {
          "name": "stdout",
          "output_type": "stream",
          "text": [
            "enter marks=78\n"
          ]
        }
      ]
    },
    {
      "cell_type": "code",
      "source": [
        "print(value)"
      ],
      "metadata": {
        "colab": {
          "base_uri": "https://localhost:8080/"
        },
        "id": "LM4lhjrI9qQW",
        "outputId": "035e4845-c4fa-4cb7-b532-7a012957634d"
      },
      "execution_count": 9,
      "outputs": [
        {
          "output_type": "stream",
          "name": "stdout",
          "text": [
            "78.0\n"
          ]
        }
      ]
    },
    {
      "cell_type": "markdown",
      "source": [
        "## Set"
      ],
      "metadata": {
        "id": "y0-XIKakQuDY"
      }
    },
    {
      "cell_type": "code",
      "source": [
        "s='hello how are you'\n",
        "s[0]\n"
      ],
      "metadata": {
        "colab": {
          "base_uri": "https://localhost:8080/",
          "height": 36
        },
        "id": "267lTqDe99Qp",
        "outputId": "8b0dc367-8344-48cc-eb9d-d79eb142bdf3"
      },
      "execution_count": 10,
      "outputs": [
        {
          "output_type": "execute_result",
          "data": {
            "text/plain": [
              "'h'"
            ],
            "application/vnd.google.colaboratory.intrinsic+json": {
              "type": "string"
            }
          },
          "metadata": {},
          "execution_count": 10
        }
      ]
    },
    {
      "cell_type": "code",
      "source": [
        "s[0:5]\n",
        "s[5:8]\n",
        "s[6:]\n",
        "s[:]\n",
        "#s\n",
        "s+s\n",
        "4*s"
      ],
      "metadata": {
        "colab": {
          "base_uri": "https://localhost:8080/",
          "height": 36
        },
        "id": "gNUTgK1UmnTN",
        "outputId": "a734d69c-ec2f-4d65-f169-a7589a5192ae"
      },
      "execution_count": 11,
      "outputs": [
        {
          "output_type": "execute_result",
          "data": {
            "text/plain": [
              "'hello how are youhello how are youhello how are youhello how are you'"
            ],
            "application/vnd.google.colaboratory.intrinsic+json": {
              "type": "string"
            }
          },
          "metadata": {},
          "execution_count": 11
        }
      ]
    },
    {
      "cell_type": "code",
      "source": [
        "s=\"ab\"\n",
        "x,y=s\n",
        "x\n",
        "y\n"
      ],
      "metadata": {
        "id": "9vDdZtgy-xDQ",
        "colab": {
          "base_uri": "https://localhost:8080/",
          "height": 36
        },
        "outputId": "71aed33e-4c2f-446c-bb62-65739d3786c5"
      },
      "execution_count": 12,
      "outputs": [
        {
          "output_type": "execute_result",
          "data": {
            "text/plain": [
              "'b'"
            ],
            "application/vnd.google.colaboratory.intrinsic+json": {
              "type": "string"
            }
          },
          "metadata": {},
          "execution_count": 12
        }
      ]
    },
    {
      "cell_type": "markdown",
      "source": [
        "## List"
      ],
      "metadata": {
        "id": "zmwOk5CPQzq4"
      }
    },
    {
      "cell_type": "code",
      "source": [
        "list =[10,20,30,40]\n",
        "list.remove(30) # remove specific element\n",
        "list\n"
      ],
      "metadata": {
        "id": "I30g2UI_mqUY",
        "colab": {
          "base_uri": "https://localhost:8080/"
        },
        "outputId": "2f2ae9be-a3ca-47bd-8e5e-cbf01d390deb"
      },
      "execution_count": 51,
      "outputs": [
        {
          "output_type": "execute_result",
          "data": {
            "text/plain": [
              "[10, 20, 40]"
            ]
          },
          "metadata": {},
          "execution_count": 51
        }
      ]
    },
    {
      "cell_type": "code",
      "source": [
        "list.pop(1) #use to remove element from desired position\n",
        "list"
      ],
      "metadata": {
        "colab": {
          "base_uri": "https://localhost:8080/"
        },
        "id": "ZCNIbyacSL_V",
        "outputId": "37e529c1-c59d-4fb4-8f73-9d8cbe55db77"
      },
      "execution_count": 53,
      "outputs": [
        {
          "output_type": "execute_result",
          "data": {
            "text/plain": [
              "[10]"
            ]
          },
          "metadata": {},
          "execution_count": 53
        }
      ]
    },
    {
      "cell_type": "code",
      "source": [
        "list.clear() # clear all the element\n",
        "list"
      ],
      "metadata": {
        "colab": {
          "base_uri": "https://localhost:8080/"
        },
        "id": "pwYQhYi7SQ8r",
        "outputId": "5b9d015a-2c06-4c77-8247-4d241dca7ce2"
      },
      "execution_count": 56,
      "outputs": [
        {
          "output_type": "execute_result",
          "data": {
            "text/plain": [
              "[]"
            ]
          },
          "metadata": {},
          "execution_count": 56
        }
      ]
    },
    {
      "cell_type": "code",
      "source": [
        "L=[3,4,5]\n",
        "L.append(8) # add an element\n",
        "L\n",
        "L.extend([7,8,9]) # use to add more than 1 elememt\n",
        "L\n",
        "\n"
      ],
      "metadata": {
        "colab": {
          "base_uri": "https://localhost:8080/"
        },
        "id": "2hhaiFCpqaJk",
        "outputId": "edb4fc8b-3d93-45a3-9c22-f48f00b49080"
      },
      "execution_count": 46,
      "outputs": [
        {
          "output_type": "execute_result",
          "data": {
            "text/plain": [
              "[3, 4, 5, 8, 7, 8, 9]"
            ]
          },
          "metadata": {},
          "execution_count": 46
        }
      ]
    },
    {
      "cell_type": "code",
      "source": [
        "L.insert(2,9)\n",
        "len(L)\n",
        "L.index(4)"
      ],
      "metadata": {
        "colab": {
          "base_uri": "https://localhost:8080/"
        },
        "id": "3IRnb1QrsQhO",
        "outputId": "660ace34-930b-4fcb-81af-a29a2252f473"
      },
      "execution_count": 15,
      "outputs": [
        {
          "output_type": "execute_result",
          "data": {
            "text/plain": [
              "1"
            ]
          },
          "metadata": {},
          "execution_count": 15
        }
      ]
    },
    {
      "cell_type": "code",
      "source": [
        "old_list= [1,2,3,4]\n",
        "new_list=old_list\n",
        "new_list.append(5)\n",
        "new_list\n",
        "old_list\n",
        "new_list= old_list.copy() # use to copy\n",
        "old_list"
      ],
      "metadata": {
        "colab": {
          "base_uri": "https://localhost:8080/"
        },
        "id": "FOS1pluRs0Nl",
        "outputId": "01f7029b-2004-4b07-9368-6a0f4127946e"
      },
      "execution_count": 16,
      "outputs": [
        {
          "output_type": "execute_result",
          "data": {
            "text/plain": [
              "[1, 2, 3, 4, 5]"
            ]
          },
          "metadata": {},
          "execution_count": 16
        }
      ]
    },
    {
      "cell_type": "code",
      "source": [
        "list=['akash' , 'x ', 1 ,2.0]\n",
        "new_list=list[0:2]\n",
        "new_list.append(8)\n",
        "new_list"
      ],
      "metadata": {
        "colab": {
          "base_uri": "https://localhost:8080/"
        },
        "id": "GlQRCa23uUHo",
        "outputId": "f7a73861-8aa3-426b-8071-b524a05a0423"
      },
      "execution_count": 17,
      "outputs": [
        {
          "output_type": "execute_result",
          "data": {
            "text/plain": [
              "['akash', 'x ', 8]"
            ]
          },
          "metadata": {},
          "execution_count": 17
        }
      ]
    },
    {
      "cell_type": "code",
      "source": [
        "message=\" welcome to ims \"\n",
        "message.split() #split the text\n",
        "message.replace('o','0') #use to replace words"
      ],
      "metadata": {
        "colab": {
          "base_uri": "https://localhost:8080/",
          "height": 36
        },
        "id": "KRxc0dvwvV0H",
        "outputId": "3670551a-43ab-4eac-d465-3e02dbf3781b"
      },
      "execution_count": 45,
      "outputs": [
        {
          "output_type": "execute_result",
          "data": {
            "text/plain": [
              "'welcome to ims'"
            ],
            "application/vnd.google.colaboratory.intrinsic+json": {
              "type": "string"
            }
          },
          "metadata": {},
          "execution_count": 45
        }
      ]
    },
    {
      "cell_type": "code",
      "source": [
        "x = 'bread'\n",
        "if (x=='bread'):\n",
        "  print('this is my breakfast')"
      ],
      "metadata": {
        "colab": {
          "base_uri": "https://localhost:8080/"
        },
        "id": "haMtqLbokUFw",
        "outputId": "40a0c003-81c2-4894-dcd4-8a368461d30f"
      },
      "execution_count": 19,
      "outputs": [
        {
          "output_type": "stream",
          "name": "stdout",
          "text": [
            "this is my breakfast\n"
          ]
        }
      ]
    },
    {
      "cell_type": "code",
      "source": [
        "a= 10\n",
        "b= 20\n",
        "#if(b>a):\n",
        "#  print('b is greater than a')\n",
        "# if(b>a):print('a is less than a ')\n",
        "#else:\n",
        "#  print(\"A is less than B\")\n",
        "print('a')if(a>b)else print('b')"
      ],
      "metadata": {
        "colab": {
          "base_uri": "https://localhost:8080/"
        },
        "id": "vyc8bb7Ikx0F",
        "outputId": "20e4c2a3-b49c-474c-db03-21983704b68e"
      },
      "execution_count": 20,
      "outputs": [
        {
          "output_type": "stream",
          "name": "stdout",
          "text": [
            "b\n"
          ]
        }
      ]
    },
    {
      "cell_type": "code",
      "source": [
        "x=2\n",
        "y=3\n",
        "z=4\n",
        "if (x>y):\n",
        "   print('x greater')\n",
        "elif(x<z):\n",
        "   print('z is greater than x and y ')\n",
        "else:\n",
        "   print('y is greater')"
      ],
      "metadata": {
        "colab": {
          "base_uri": "https://localhost:8080/"
        },
        "id": "F2F7s0bkmqqx",
        "outputId": "c61e7586-1a3d-48cd-cb17-7a24144e3a08"
      },
      "execution_count": 21,
      "outputs": [
        {
          "output_type": "stream",
          "name": "stdout",
          "text": [
            "z is greater than x and y \n"
          ]
        }
      ]
    },
    {
      "cell_type": "code",
      "source": [
        "x=int(input(\"enter number\"))\n",
        "if(x%2==0):\n",
        "  print('x is even')\n",
        "else:\n",
        "  print('x is odd')"
      ],
      "metadata": {
        "colab": {
          "base_uri": "https://localhost:8080/"
        },
        "id": "pzsaxH_gozsC",
        "outputId": "78fc70ad-8494-4949-890c-949f5bb80931"
      },
      "execution_count": 22,
      "outputs": [
        {
          "output_type": "stream",
          "name": "stdout",
          "text": [
            "enter number88\n",
            "x is even\n"
          ]
        }
      ]
    },
    {
      "cell_type": "code",
      "source": [
        "x=0\n",
        "while(x<=10):  #int i,  x>0; ;<i++\n",
        "  print(x)\n",
        "  x=x+1\n",
        "  x\n",
        "\n",
        "\n"
      ],
      "metadata": {
        "colab": {
          "base_uri": "https://localhost:8080/"
        },
        "id": "BXUph1y5qEsv",
        "outputId": "0a1dbedc-a340-47fc-85b1-c5c1ff02eaa9"
      },
      "execution_count": 23,
      "outputs": [
        {
          "output_type": "stream",
          "name": "stdout",
          "text": [
            "0\n",
            "1\n",
            "2\n",
            "3\n",
            "4\n",
            "5\n",
            "6\n",
            "7\n",
            "8\n",
            "9\n",
            "10\n"
          ]
        }
      ]
    },
    {
      "cell_type": "code",
      "source": [
        "#horizontally\n",
        "a=0\n",
        "b=10\n",
        "while(a<b):\n",
        "  print(a, end=\" \")\n",
        "  a+=1"
      ],
      "metadata": {
        "colab": {
          "base_uri": "https://localhost:8080/"
        },
        "id": "AG9Al_s7rGhl",
        "outputId": "aeb1d72d-b4f4-4a64-ebd6-c69cfa42407e"
      },
      "execution_count": 24,
      "outputs": [
        {
          "output_type": "stream",
          "name": "stdout",
          "text": [
            "0 1 2 3 4 5 6 7 8 9 "
          ]
        }
      ]
    },
    {
      "cell_type": "code",
      "source": [
        "name='kishi'\n",
        "while(name):\n",
        "  print(name)\n",
        "  name=name[1:] #displaying string after striking off each character"
      ],
      "metadata": {
        "colab": {
          "base_uri": "https://localhost:8080/"
        },
        "id": "CXsNMbq0sdpL",
        "outputId": "8ec6518d-6db5-4204-e583-b459373feed3"
      },
      "execution_count": 25,
      "outputs": [
        {
          "output_type": "stream",
          "name": "stdout",
          "text": [
            "kishi\n",
            "ishi\n",
            "shi\n",
            "hi\n",
            "i\n"
          ]
        }
      ]
    },
    {
      "cell_type": "code",
      "source": [
        "s= \"hello\"\n",
        "for v in s:\n",
        "  print(v)"
      ],
      "metadata": {
        "colab": {
          "base_uri": "https://localhost:8080/"
        },
        "id": "lCC9HWALt5Wu",
        "outputId": "362e6729-223e-4337-f706-ab79a015fc0b"
      },
      "execution_count": 26,
      "outputs": [
        {
          "output_type": "stream",
          "name": "stdout",
          "text": [
            "h\n",
            "e\n",
            "l\n",
            "l\n",
            "o\n"
          ]
        }
      ]
    },
    {
      "cell_type": "code",
      "source": [
        "x=2\n",
        "x\n"
      ],
      "metadata": {
        "colab": {
          "base_uri": "https://localhost:8080/"
        },
        "id": "A7oOboV_dyNi",
        "outputId": "4b85834d-ec3b-48de-c6b8-207bf2515f0c"
      },
      "execution_count": 27,
      "outputs": [
        {
          "output_type": "execute_result",
          "data": {
            "text/plain": [
              "2"
            ]
          },
          "metadata": {},
          "execution_count": 27
        }
      ]
    },
    {
      "cell_type": "code",
      "source": [
        "type(x)"
      ],
      "metadata": {
        "colab": {
          "base_uri": "https://localhost:8080/"
        },
        "id": "DzWPspuzdusw",
        "outputId": "cc161fc9-c673-4358-bfbd-a2ff3a797f99"
      },
      "execution_count": 28,
      "outputs": [
        {
          "output_type": "execute_result",
          "data": {
            "text/plain": [
              "int"
            ]
          },
          "metadata": {},
          "execution_count": 28
        }
      ]
    },
    {
      "cell_type": "code",
      "source": [
        "x = 4\n",
        "y = 11\n",
        "p= 5.0\n",
        "ans= x**(y%p)\n",
        "print(ans)"
      ],
      "metadata": {
        "colab": {
          "base_uri": "https://localhost:8080/"
        },
        "id": "MVrd-Ap6Utzx",
        "outputId": "b6011365-ed70-4c25-e951-eec162ab36c4"
      },
      "execution_count": 29,
      "outputs": [
        {
          "output_type": "stream",
          "name": "stdout",
          "text": [
            "4.0\n"
          ]
        }
      ]
    },
    {
      "cell_type": "code",
      "source": [
        "num=20.5\n",
        "z=3\n",
        "result=2+z*3+num//z\n",
        "print(result)"
      ],
      "metadata": {
        "colab": {
          "base_uri": "https://localhost:8080/"
        },
        "id": "XoesOZzNV5pl",
        "outputId": "adcbd4af-5476-43b9-aacc-926a2479a3cc"
      },
      "execution_count": 30,
      "outputs": [
        {
          "output_type": "stream",
          "name": "stdout",
          "text": [
            "17.0\n"
          ]
        }
      ]
    },
    {
      "cell_type": "code",
      "source": [
        "X=300\n",
        "Y= 17\n",
        "X%=Y\n",
        "print(X)"
      ],
      "metadata": {
        "colab": {
          "base_uri": "https://localhost:8080/"
        },
        "id": "14DcF-PV1qVh",
        "outputId": "eadcf9c9-f7c7-4354-a0b4-e9137d8f115d"
      },
      "execution_count": 31,
      "outputs": [
        {
          "output_type": "stream",
          "name": "stdout",
          "text": [
            "11\n"
          ]
        }
      ]
    },
    {
      "cell_type": "code",
      "source": [
        " a = 'gOOd moRning'\n",
        "a.title( ) #use to make text in Arranged order as title"
      ],
      "metadata": {
        "id": "lTP1BB1N2LhZ",
        "colab": {
          "base_uri": "https://localhost:8080/",
          "height": 36
        },
        "outputId": "f1709dec-1863-4a50-bf27-1bbdfe08717b"
      },
      "execution_count": 32,
      "outputs": [
        {
          "output_type": "execute_result",
          "data": {
            "text/plain": [
              "'Good Morning'"
            ],
            "application/vnd.google.colaboratory.intrinsic+json": {
              "type": "string"
            }
          },
          "metadata": {},
          "execution_count": 32
        }
      ]
    },
    {
      "cell_type": "code",
      "source": [
        "Mylist =['a', 'a', 'b', 'b', 'b', 'c', 'c', 'd', 'e']\n",
        "Mylist.index('d')"
      ],
      "metadata": {
        "colab": {
          "base_uri": "https://localhost:8080/"
        },
        "id": "PzbbwtF1r4pp",
        "outputId": "11b0d849-58aa-44a2-8180-ea9aeef79f2f"
      },
      "execution_count": 34,
      "outputs": [
        {
          "output_type": "execute_result",
          "data": {
            "text/plain": [
              "7"
            ]
          },
          "metadata": {},
          "execution_count": 34
        }
      ]
    },
    {
      "cell_type": "code",
      "source": [
        "L1=[1,2,3,4,5]\n",
        "L2=[6,7,8,9,0]\n",
        "print('enter elements for first list:')\n",
        "for i in range(10):\n",
        "  n =int(input('enter a number'))\n",
        "  L1.append(n)\n"
      ],
      "metadata": {
        "colab": {
          "base_uri": "https://localhost:8080/"
        },
        "id": "HwuQXAXuOySr",
        "outputId": "4b88314b-1fbc-4952-b511-8ffaa5e068dc"
      },
      "execution_count": 37,
      "outputs": [
        {
          "name": "stdout",
          "output_type": "stream",
          "text": [
            "enter elements for first list:\n",
            "enter a number1\n",
            "enter a number2\n",
            "enter a number3\n",
            "enter a number4\n",
            "enter a number5\n",
            "enter a number6\n",
            "enter a number7\n",
            "enter a number8\n",
            "enter a number9\n",
            "enter a number10\n"
          ]
        }
      ]
    },
    {
      "cell_type": "code",
      "source": [
        " print(\"enter elements for second list :\")\n",
        "for i in range (10):\n",
        "  n=int (input(\"enter a number\"))\n",
        "  L2.append(n)\n"
      ],
      "metadata": {
        "colab": {
          "base_uri": "https://localhost:8080/"
        },
        "id": "1yAj-5sjOzlD",
        "outputId": "ccfe808d-d4f9-4e00-faa1-93454332dcba"
      },
      "execution_count": 38,
      "outputs": [
        {
          "name": "stdout",
          "output_type": "stream",
          "text": [
            "enter elements for second list :\n",
            "enter a number9\n",
            "enter a number8\n",
            "enter a number7\n",
            "enter a number6\n",
            "enter a number5\n",
            "enter a number4\n",
            "enter a number3\n",
            "enter a number2\n",
            "enter a number1\n",
            "enter a number0\n"
          ]
        }
      ]
    },
    {
      "cell_type": "code",
      "source": [
        "\n",
        "L3=L1+L2\n",
        "print(L3)"
      ],
      "metadata": {
        "colab": {
          "base_uri": "https://localhost:8080/"
        },
        "id": "xcmWfmw3PILZ",
        "outputId": "1bc03df2-6733-4199-c91c-183a2a2e357e"
      },
      "execution_count": 39,
      "outputs": [
        {
          "output_type": "stream",
          "name": "stdout",
          "text": [
            "[1, 2, 3, 4, 5, 1, 2, 3, 4, 5, 6, 7, 8, 9, 10, 6, 7, 8, 9, 0, 9, 8, 7, 6, 5, 4, 3, 2, 1, 0]\n"
          ]
        }
      ]
    },
    {
      "cell_type": "code",
      "source": [
        "L4=L3\n",
        "L4.sort()\n",
        "print(L4)\n"
      ],
      "metadata": {
        "colab": {
          "base_uri": "https://localhost:8080/"
        },
        "id": "JiZeSOTzPVXv",
        "outputId": "13f8cdc0-1a75-4dbd-b273-7891348bc5f4"
      },
      "execution_count": 40,
      "outputs": [
        {
          "output_type": "stream",
          "name": "stdout",
          "text": [
            "[0, 0, 1, 1, 1, 2, 2, 2, 3, 3, 3, 4, 4, 4, 5, 5, 5, 6, 6, 6, 7, 7, 7, 8, 8, 8, 9, 9, 9, 10]\n"
          ]
        }
      ]
    },
    {
      "cell_type": "code",
      "source": [
        "L4.reverse()\n",
        "print(L4)"
      ],
      "metadata": {
        "colab": {
          "base_uri": "https://localhost:8080/"
        },
        "id": "HOFXSuSlPYGC",
        "outputId": "c6a906c2-277f-4cb3-bc80-c06c543d58e1"
      },
      "execution_count": 41,
      "outputs": [
        {
          "output_type": "stream",
          "name": "stdout",
          "text": [
            "[10, 9, 9, 9, 8, 8, 8, 7, 7, 7, 6, 6, 6, 5, 5, 5, 4, 4, 4, 3, 3, 3, 2, 2, 2, 1, 1, 1, 0, 0]\n"
          ]
        }
      ]
    },
    {
      "cell_type": "markdown",
      "source": [
        "## Dictionary\n"
      ],
      "metadata": {
        "id": "xN-G0yUZQhHX"
      }
    },
    {
      "cell_type": "code",
      "source": [
        "d1={1:'amit', 2:'sumit', 3:'ravi'}\n",
        "marks={'amit':45,'sumit':55,'ravi':65 }\n",
        "print(d1[3])\n",
        "print(marks['sumit'])\n"
      ],
      "metadata": {
        "colab": {
          "base_uri": "https://localhost:8080/"
        },
        "id": "Wf5vktU7PdT9",
        "outputId": "7f2f22a5-a22d-4bea-c5fc-1f42f1810b3a"
      },
      "execution_count": 42,
      "outputs": [
        {
          "output_type": "stream",
          "name": "stdout",
          "text": [
            "ravi\n",
            "55\n"
          ]
        }
      ]
    },
    {
      "cell_type": "code",
      "source": [
        "dict={1:'amit', 2:'sumit', 3:'ravi'}\n",
        "rn=int(input('enter a rollno'))\n",
        "print('name is',dict[rn])"
      ],
      "metadata": {
        "colab": {
          "base_uri": "https://localhost:8080/"
        },
        "id": "eofS_Z2XQbPK",
        "outputId": "4a473fbb-d79e-4a36-8ef2-10bdd00b8225"
      },
      "execution_count": 43,
      "outputs": [
        {
          "output_type": "stream",
          "name": "stdout",
          "text": [
            "enter a rollno3\n",
            "name is ravi\n"
          ]
        }
      ]
    },
    {
      "cell_type": "code",
      "source": [],
      "metadata": {
        "id": "Y_q4-CAMQeuD"
      },
      "execution_count": null,
      "outputs": []
    }
  ]
}