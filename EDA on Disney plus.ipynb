{
 "cells": [
  {
   "cell_type": "code",
   "execution_count": 12,
   "id": "d3ce3dc9",
   "metadata": {},
   "outputs": [],
   "source": [
    "import pandas as pd\n",
    "import matplotlib.pyplot as plt \n",
    "import seaborn as sns\n",
    "from IPython.display import Image\n"
   ]
  },
  {
   "cell_type": "code",
   "execution_count": 13,
   "id": "5ca8be53",
   "metadata": {},
   "outputs": [
    {
     "data": {
      "text/html": [
       "<div>\n",
       "<style scoped>\n",
       "    .dataframe tbody tr th:only-of-type {\n",
       "        vertical-align: middle;\n",
       "    }\n",
       "\n",
       "    .dataframe tbody tr th {\n",
       "        vertical-align: top;\n",
       "    }\n",
       "\n",
       "    .dataframe thead th {\n",
       "        text-align: right;\n",
       "    }\n",
       "</style>\n",
       "<table border=\"1\" class=\"dataframe\">\n",
       "  <thead>\n",
       "    <tr style=\"text-align: right;\">\n",
       "      <th></th>\n",
       "      <th>show_id</th>\n",
       "      <th>type</th>\n",
       "      <th>title</th>\n",
       "      <th>director</th>\n",
       "      <th>cast</th>\n",
       "      <th>country</th>\n",
       "      <th>date_added</th>\n",
       "      <th>release_year</th>\n",
       "      <th>rating</th>\n",
       "      <th>duration</th>\n",
       "      <th>listed_in</th>\n",
       "      <th>description</th>\n",
       "    </tr>\n",
       "  </thead>\n",
       "  <tbody>\n",
       "    <tr>\n",
       "      <th>0</th>\n",
       "      <td>s1</td>\n",
       "      <td>Movie</td>\n",
       "      <td>A Spark Story</td>\n",
       "      <td>Jason Sterman Leanne Dare</td>\n",
       "      <td>Apthon Corbin Louis Gonzales</td>\n",
       "      <td>United Kingdom</td>\n",
       "      <td>24-Sep-21</td>\n",
       "      <td>2021</td>\n",
       "      <td>TV-PG</td>\n",
       "      <td>88 min</td>\n",
       "      <td>Documentary</td>\n",
       "      <td>Two Pixar filmmakers strive to bring their uni...</td>\n",
       "    </tr>\n",
       "    <tr>\n",
       "      <th>1</th>\n",
       "      <td>s2</td>\n",
       "      <td>Movie</td>\n",
       "      <td>Spooky Buddies</td>\n",
       "      <td>Robert Vince</td>\n",
       "      <td>Tucker Albrizzi Diedrich Bader Ameko Eks Mass ...</td>\n",
       "      <td>Canada</td>\n",
       "      <td>24-Sep-21</td>\n",
       "      <td>2011</td>\n",
       "      <td>G</td>\n",
       "      <td>93 min</td>\n",
       "      <td>Animation</td>\n",
       "      <td>The puppies go on a spooky adventure through a...</td>\n",
       "    </tr>\n",
       "    <tr>\n",
       "      <th>2</th>\n",
       "      <td>s3</td>\n",
       "      <td>Movie</td>\n",
       "      <td>The Fault in Our Stars</td>\n",
       "      <td>Josh Boone</td>\n",
       "      <td>Shailene Woodley Ansel Elgort Laura Dern Sam T...</td>\n",
       "      <td>United States</td>\n",
       "      <td>24-Sep-21</td>\n",
       "      <td>2014</td>\n",
       "      <td>PG-13</td>\n",
       "      <td>127 min</td>\n",
       "      <td>Drama</td>\n",
       "      <td>Hazel and Gus share a love that sweeps them on...</td>\n",
       "    </tr>\n",
       "    <tr>\n",
       "      <th>3</th>\n",
       "      <td>s4</td>\n",
       "      <td>TV Show</td>\n",
       "      <td>Dog: Impossible</td>\n",
       "      <td>NaN</td>\n",
       "      <td>Matt Beisner</td>\n",
       "      <td>United States</td>\n",
       "      <td>22-Sep-21</td>\n",
       "      <td>2019</td>\n",
       "      <td>TV-PG</td>\n",
       "      <td>2 Seasons</td>\n",
       "      <td>Family</td>\n",
       "      <td>Matt Beisner uses unique approaches to modifyi...</td>\n",
       "    </tr>\n",
       "    <tr>\n",
       "      <th>4</th>\n",
       "      <td>s5</td>\n",
       "      <td>TV Show</td>\n",
       "      <td>Spidey And His Amazing Friends</td>\n",
       "      <td>NaN</td>\n",
       "      <td>Benjamin Valic Lily Sanfelippo Jakari Fraser D...</td>\n",
       "      <td>United States</td>\n",
       "      <td>22-Sep-21</td>\n",
       "      <td>2021</td>\n",
       "      <td>TV-Y</td>\n",
       "      <td>1 Season</td>\n",
       "      <td>Animation</td>\n",
       "      <td>Spidey teams up with pals to become The Spidey...</td>\n",
       "    </tr>\n",
       "  </tbody>\n",
       "</table>\n",
       "</div>"
      ],
      "text/plain": [
       "  show_id     type                           title                   director  \\\n",
       "0      s1    Movie                   A Spark Story  Jason Sterman Leanne Dare   \n",
       "1      s2    Movie                  Spooky Buddies               Robert Vince   \n",
       "2      s3    Movie          The Fault in Our Stars                 Josh Boone   \n",
       "3      s4  TV Show                 Dog: Impossible                        NaN   \n",
       "4      s5  TV Show  Spidey And His Amazing Friends                        NaN   \n",
       "\n",
       "                                                cast         country  \\\n",
       "0                       Apthon Corbin Louis Gonzales  United Kingdom   \n",
       "1  Tucker Albrizzi Diedrich Bader Ameko Eks Mass ...          Canada   \n",
       "2  Shailene Woodley Ansel Elgort Laura Dern Sam T...   United States   \n",
       "3                                       Matt Beisner   United States   \n",
       "4  Benjamin Valic Lily Sanfelippo Jakari Fraser D...   United States   \n",
       "\n",
       "  date_added  release_year rating   duration    listed_in  \\\n",
       "0  24-Sep-21          2021  TV-PG     88 min  Documentary   \n",
       "1  24-Sep-21          2011      G     93 min    Animation   \n",
       "2  24-Sep-21          2014  PG-13    127 min        Drama   \n",
       "3  22-Sep-21          2019  TV-PG  2 Seasons       Family   \n",
       "4  22-Sep-21          2021   TV-Y   1 Season    Animation   \n",
       "\n",
       "                                         description  \n",
       "0  Two Pixar filmmakers strive to bring their uni...  \n",
       "1  The puppies go on a spooky adventure through a...  \n",
       "2  Hazel and Gus share a love that sweeps them on...  \n",
       "3  Matt Beisner uses unique approaches to modifyi...  \n",
       "4  Spidey teams up with pals to become The Spidey...  "
      ]
     },
     "execution_count": 13,
     "metadata": {},
     "output_type": "execute_result"
    }
   ],
   "source": [
    "disney_plus = pd.read_csv(\"D:\\Downloads\\disney_plus_titles.csv\")\n",
    "disney_plus.head()"
   ]
  },
  {
   "cell_type": "code",
   "execution_count": 14,
   "id": "cf3ff0d4",
   "metadata": {},
   "outputs": [
    {
     "data": {
      "text/plain": [
       "(1368, 12)"
      ]
     },
     "execution_count": 14,
     "metadata": {},
     "output_type": "execute_result"
    }
   ],
   "source": [
    "disney_plus.shape"
   ]
  },
  {
   "cell_type": "code",
   "execution_count": 15,
   "id": "2f740cce",
   "metadata": {},
   "outputs": [
    {
     "data": {
      "text/plain": [
       "Index(['show_id', 'type', 'title', 'director', 'cast', 'country', 'date_added',\n",
       "       'release_year', 'rating', 'duration', 'listed_in', 'description'],\n",
       "      dtype='object')"
      ]
     },
     "execution_count": 15,
     "metadata": {},
     "output_type": "execute_result"
    }
   ],
   "source": [
    "disney_plus.columns"
   ]
  },
  {
   "cell_type": "code",
   "execution_count": 16,
   "id": "0e67764c",
   "metadata": {
    "scrolled": true
   },
   "outputs": [
    {
     "name": "stdout",
     "output_type": "stream",
     "text": [
      "<class 'pandas.core.frame.DataFrame'>\n",
      "RangeIndex: 1368 entries, 0 to 1367\n",
      "Data columns (total 12 columns):\n",
      " #   Column        Non-Null Count  Dtype \n",
      "---  ------        --------------  ----- \n",
      " 0   show_id       1368 non-null   object\n",
      " 1   type          1368 non-null   object\n",
      " 2   title         1368 non-null   object\n",
      " 3   director      928 non-null    object\n",
      " 4   cast          1194 non-null   object\n",
      " 5   country       1368 non-null   object\n",
      " 6   date_added    1365 non-null   object\n",
      " 7   release_year  1368 non-null   int64 \n",
      " 8   rating        1366 non-null   object\n",
      " 9   duration      1368 non-null   object\n",
      " 10  listed_in     1368 non-null   object\n",
      " 11  description   1368 non-null   object\n",
      "dtypes: int64(1), object(11)\n",
      "memory usage: 128.4+ KB\n"
     ]
    }
   ],
   "source": [
    "disney_plus.info()"
   ]
  },
  {
   "cell_type": "code",
   "execution_count": 17,
   "id": "061e160a",
   "metadata": {},
   "outputs": [
    {
     "data": {
      "text/html": [
       "<div>\n",
       "<style scoped>\n",
       "    .dataframe tbody tr th:only-of-type {\n",
       "        vertical-align: middle;\n",
       "    }\n",
       "\n",
       "    .dataframe tbody tr th {\n",
       "        vertical-align: top;\n",
       "    }\n",
       "\n",
       "    .dataframe thead th {\n",
       "        text-align: right;\n",
       "    }\n",
       "</style>\n",
       "<table border=\"1\" class=\"dataframe\">\n",
       "  <thead>\n",
       "    <tr style=\"text-align: right;\">\n",
       "      <th></th>\n",
       "      <th>release_year</th>\n",
       "    </tr>\n",
       "  </thead>\n",
       "  <tbody>\n",
       "    <tr>\n",
       "      <th>count</th>\n",
       "      <td>1368.000000</td>\n",
       "    </tr>\n",
       "    <tr>\n",
       "      <th>mean</th>\n",
       "      <td>2002.348684</td>\n",
       "    </tr>\n",
       "    <tr>\n",
       "      <th>std</th>\n",
       "      <td>22.127559</td>\n",
       "    </tr>\n",
       "    <tr>\n",
       "      <th>min</th>\n",
       "      <td>1928.000000</td>\n",
       "    </tr>\n",
       "    <tr>\n",
       "      <th>25%</th>\n",
       "      <td>1998.000000</td>\n",
       "    </tr>\n",
       "    <tr>\n",
       "      <th>50%</th>\n",
       "      <td>2011.000000</td>\n",
       "    </tr>\n",
       "    <tr>\n",
       "      <th>75%</th>\n",
       "      <td>2018.000000</td>\n",
       "    </tr>\n",
       "    <tr>\n",
       "      <th>max</th>\n",
       "      <td>2021.000000</td>\n",
       "    </tr>\n",
       "  </tbody>\n",
       "</table>\n",
       "</div>"
      ],
      "text/plain": [
       "       release_year\n",
       "count   1368.000000\n",
       "mean    2002.348684\n",
       "std       22.127559\n",
       "min     1928.000000\n",
       "25%     1998.000000\n",
       "50%     2011.000000\n",
       "75%     2018.000000\n",
       "max     2021.000000"
      ]
     },
     "execution_count": 17,
     "metadata": {},
     "output_type": "execute_result"
    }
   ],
   "source": [
    "disney_plus.describe()"
   ]
  },
  {
   "cell_type": "code",
   "execution_count": 18,
   "id": "2c17debc",
   "metadata": {},
   "outputs": [
    {
     "data": {
      "text/plain": [
       "show_id           0\n",
       "type              0\n",
       "title             0\n",
       "director        440\n",
       "cast            174\n",
       "country           0\n",
       "date_added        3\n",
       "release_year      0\n",
       "rating            2\n",
       "duration          0\n",
       "listed_in         0\n",
       "description       0\n",
       "dtype: int64"
      ]
     },
     "execution_count": 18,
     "metadata": {},
     "output_type": "execute_result"
    }
   ],
   "source": [
    "##Checking if there is any Null Value is present in the dataset or not?\n",
    "\n",
    "\n",
    "disney_plus.isnull().sum()\n"
   ]
  },
  {
   "cell_type": "code",
   "execution_count": 19,
   "id": "e5065d01",
   "metadata": {},
   "outputs": [
    {
     "data": {
      "text/plain": [
       "<AxesSubplot: >"
      ]
     },
     "execution_count": 19,
     "metadata": {},
     "output_type": "execute_result"
    },
    {
     "data": {
      "image/png": "[encoded data removed]",
      "text/plain": [
       "<Figure size 640x480 with 2 Axes>"
      ]
     },
     "metadata": {},
     "output_type": "display_data"
    }
   ],
   "source": [
    "sns.heatmap(disney_plus.isnull())"
   ]
  },
  {
   "cell_type": "code",
   "execution_count": 20,
   "id": "7b7dff92",
   "metadata": {},
   "outputs": [
    {
     "data": {
      "text/plain": [
       "0"
      ]
     },
     "execution_count": 20,
     "metadata": {},
     "output_type": "execute_result"
    }
   ],
   "source": [
    "##Checking if there any duplicate value present in the dataset or not?\n",
    "\n",
    "disney_plus.duplicated().sum()"
   ]
  },
  {
   "cell_type": "code",
   "execution_count": 21,
   "id": "e580c93a",
   "metadata": {},
   "outputs": [
    {
     "data": {
      "text/plain": [
       "array(['Movie', 'TV Show'], dtype=object)"
      ]
     },
     "execution_count": 21,
     "metadata": {},
     "output_type": "execute_result"
    }
   ],
   "source": [
    "## Checking unique values\n",
    "\n",
    "disney_plus[\"type\"].unique()"
   ]
  },
  {
   "cell_type": "code",
   "execution_count": 22,
   "id": "4df74cef",
   "metadata": {},
   "outputs": [
    {
     "data": {
      "text/plain": [
       "array(['United Kingdom', 'Canada', 'United States', 'Japan', 'France',\n",
       "       'Australia', 'United States ', 'Spain', 'Germany ', 'China',\n",
       "       'India', 'Singapore', 'Canada ', 'South Korea', 'Australia ',\n",
       "       'Germany', 'Ireland', 'Brazil', 'Austria ', 'Argentina',\n",
       "       'United Arab Emirates', 'Mexico', 'France ', 'Ireland ',\n",
       "       'South Africa', 'South Korea ', 'Hungary', 'Japan ', 'Tanzania ',\n",
       "       'Denmark', 'New Zealand', 'Poland', 'New Zealand '], dtype=object)"
      ]
     },
     "execution_count": 22,
     "metadata": {},
     "output_type": "execute_result"
    }
   ],
   "source": [
    "disney_plus[\"country\"].unique()"
   ]
  },
  {
   "cell_type": "code",
   "execution_count": 23,
   "id": "f9be3d79",
   "metadata": {},
   "outputs": [
    {
     "data": {
      "text/plain": [
       "33"
      ]
     },
     "execution_count": 23,
     "metadata": {},
     "output_type": "execute_result"
    }
   ],
   "source": [
    "disney_plus[\"country\"].nunique()"
   ]
  },
  {
   "cell_type": "code",
   "execution_count": 24,
   "id": "f978680e",
   "metadata": {},
   "outputs": [
    {
     "data": {
      "text/plain": [
       "array([2021, 2011, 2014, 2019, 2009, 2016, 2020, 2012, 2015, 1997, 2007,\n",
       "       2018, 2006, 2013, 2005, 2000, 1993, 2004, 2017, 1987, 1985, 1967,\n",
       "       1973, 1996, 1991, 1994, 1956, 2010, 1995, 1984, 1974, 1959, 2008,\n",
       "       2003, 1976, 2001, 1990, 1992, 1989, 1998, 1952, 1955, 1977, 1957,\n",
       "       1999, 1948, 1964, 1969, 1942, 1950, 1951, 1953, 1949, 1940, 1946,\n",
       "       1954, 1936, 1944, 1935, 1939, 1975, 1978, 2002, 1988, 1971, 1961,\n",
       "       1962, 1981, 1932, 1938, 1941, 1986, 1947, 1937, 1966, 1943, 1934,\n",
       "       1980, 1960, 1983, 1972, 1982, 1979, 1928, 1965, 1970, 1963, 1933,\n",
       "       1945, 1968], dtype=int64)"
      ]
     },
     "execution_count": 24,
     "metadata": {},
     "output_type": "execute_result"
    }
   ],
   "source": [
    "disney_plus[\"release_year\"].unique()\n"
   ]
  },
  {
   "cell_type": "code",
   "execution_count": 25,
   "id": "b9daf220",
   "metadata": {},
   "outputs": [
    {
     "data": {
      "text/plain": [
       "array(['TV-PG', 'G', 'PG-13', 'TV-Y', 'PG', 'TV-G', 'TV-14', 'TV-Y7',\n",
       "       'TV-Y7-FV', nan], dtype=object)"
      ]
     },
     "execution_count": 25,
     "metadata": {},
     "output_type": "execute_result"
    }
   ],
   "source": [
    "disney_plus[\"rating\"].unique()\n"
   ]
  },
  {
   "cell_type": "code",
   "execution_count": 26,
   "id": "fa7edfb5",
   "metadata": {},
   "outputs": [
    {
     "data": {
      "text/plain": [
       "array(['88 min', '93 min', '127 min', '2 Seasons', '1 Season', '106 min',\n",
       "       '22 min', '116 min', '44 min', '9 min', '42 min', '16 Seasons',\n",
       "       '11 min', '140 min', '3 Seasons', '19 Seasons', '66 min',\n",
       "       '131 min', '115 min', '137 min', '99 min', '14 min', '85 min',\n",
       "       '9 Seasons', '104 min', '105 min', '92 min', '126 min', '82 min',\n",
       "       '94 min', '91 min', '87 min', '125 min', '95 min', '54 min',\n",
       "       '7 Seasons', '6 min', '4 Seasons', '101 min', '98 min', '102 min',\n",
       "       '80 min', '170 min', '97 min', '112 min', '7 min', '108 min',\n",
       "       '21 min', '20 min', '15 min', '19 min', '10 Seasons', '5 Seasons',\n",
       "       '79 min', '6 Seasons', '89 min', '4 min', '18 min', '81 min',\n",
       "       '148 min', '121 min', '96 min', '45 min', '109 min', '107 min',\n",
       "       '86 min', '53 min', '24 min', '8 Seasons', '12 min', '65 min',\n",
       "       '48 min', '111 min', '43 min', '180 min', '182 min', '60 min',\n",
       "       '50 min', '46 min', '123 min', '113 min', '117 min', '83 min',\n",
       "       '3 min', '90 min', '103 min', '23 min', '122 min', '72 min',\n",
       "       '134 min', '143 min', '31 Seasons', '84 min', '128 min', '138 min',\n",
       "       '120 min', '118 min', '129 min', '55 min', '56 min', '144 min',\n",
       "       '47 min', '135 min', '132 min', '33 min', '100 min', '160 min',\n",
       "       '49 min', '152 min', '75 min', '78 min', '8 min', '119 min',\n",
       "       '5 min', '147 min', '142 min', '32 min', '31 min', '27 min',\n",
       "       '77 min', '25 min', '2 min', '74 min', '110 min', '62 min',\n",
       "       '71 min', '162 min', '73 min', '114 min', '10 min', '64 min',\n",
       "       '51 min', '151 min', '76 min', '26 min', '130 min', '70 min',\n",
       "       '13 min', '183 min', '150 min', '145 min', '67 min', '169 min',\n",
       "       '61 min', '63 min', '41 min', '124 min', '139 min', '136 min',\n",
       "       '58 min', '69 min', '154 min', '52 min', '175 min', '59 min',\n",
       "       '68 min'], dtype=object)"
      ]
     },
     "execution_count": 26,
     "metadata": {},
     "output_type": "execute_result"
    }
   ],
   "source": [
    "disney_plus[\"duration\"].unique()\n"
   ]
  },
  {
   "cell_type": "code",
   "execution_count": 27,
   "id": "71990d88",
   "metadata": {},
   "outputs": [
    {
     "data": {
      "text/plain": [
       "array(['Documentary', 'Animation', 'Drama', 'Family', 'Anime', 'Comedy',\n",
       "       'Action-Adventure', 'Mystery', 'Comedy ', 'Animation ',\n",
       "       'Animation  ', 'Action-Adventure ', 'Documentary ', 'Family ',\n",
       "       'Drama ', 'Action-Adventure  ', ' Documentary', 'Movies',\n",
       "       ' Comedy ', 'Comedy  ', ' Mystery', 'Family  ', ' Drama',\n",
       "       'Drama  ', ' Comedy', ' Family ', ' Family'], dtype=object)"
      ]
     },
     "execution_count": 27,
     "metadata": {},
     "output_type": "execute_result"
    }
   ],
   "source": [
    "disney_plus[\"listed_in\"].unique()\n"
   ]
  },
  {
   "cell_type": "code",
   "execution_count": 28,
   "id": "f0da8a02",
   "metadata": {},
   "outputs": [
    {
     "data": {
      "text/plain": [
       "27"
      ]
     },
     "execution_count": 28,
     "metadata": {},
     "output_type": "execute_result"
    }
   ],
   "source": [
    "disney_plus[\"listed_in\"].nunique()\n"
   ]
  },
  {
   "cell_type": "code",
   "execution_count": 29,
   "id": "ef5ab562",
   "metadata": {},
   "outputs": [
    {
     "data": {
      "text/plain": [
       "Movie      991\n",
       "TV Show    377\n",
       "Name: type, dtype: int64"
      ]
     },
     "execution_count": 29,
     "metadata": {},
     "output_type": "execute_result"
    }
   ],
   "source": [
    "disney_plus[\"type\"].value_counts()\n"
   ]
  },
  {
   "cell_type": "code",
   "execution_count": 30,
   "id": "68b52416",
   "metadata": {},
   "outputs": [
    {
     "data": {
      "text/plain": [
       "<AxesSubplot: xlabel='type', ylabel='Count'>"
      ]
     },
     "execution_count": 30,
     "metadata": {},
     "output_type": "execute_result"
    },
    {
     "data": {
      "image/png": "[encoded data removed]",
      "text/plain": [
       "<Figure size 640x480 with 1 Axes>"
      ]
     },
     "metadata": {},
     "output_type": "display_data"
    }
   ],
   "source": [
    "##Checking no. of movies and no. of tv shows\n",
    "\n",
    "sns.histplot(disney_plus[\"type\"])"
   ]
  },
  {
   "cell_type": "code",
   "execution_count": 31,
   "id": "8ec4f724",
   "metadata": {},
   "outputs": [
    {
     "data": {
      "text/plain": [
       "<AxesSubplot: ylabel='type'>"
      ]
     },
     "execution_count": 31,
     "metadata": {},
     "output_type": "execute_result"
    },
    {
     "data": {
      "image/png": "[encoded data removed]",
      "text/plain": [
       "<Figure size 640x480 with 1 Axes>"
      ]
     },
     "metadata": {},
     "output_type": "display_data"
    }
   ],
   "source": [
    "disney_plus[\"type\"].value_counts().plot(kind = \"pie\", autopct = \"%.2f\")"
   ]
  },
  {
   "cell_type": "code",
   "execution_count": 32,
   "id": "0b7fc2d1",
   "metadata": {},
   "outputs": [
    {
     "name": "stderr",
     "output_type": "stream",
     "text": [
      "C:\\Users\\Dell\\AppData\\Local\\Temp\\ipykernel_16240\\2765551370.py:4: MatplotlibDeprecationWarning: The seaborn styles shipped by Matplotlib are deprecated since 3.6, as they no longer correspond to the styles shipped by seaborn. However, they will remain available as 'seaborn-v0_8-<style>'. Alternatively, directly use the seaborn API instead.\n",
      "  plt.style.use('seaborn-whitegrid')\n"
     ]
    },
    {
     "data": {
      "image/png": "[encoded data removed]",
      "text/plain": [
       "<Figure size 2000x500 with 1 Axes>"
      ]
     },
     "metadata": {},
     "output_type": "display_data"
    }
   ],
   "source": [
    "##Checking no. of ratings in each category for movies and tv shows\n",
    "\n",
    "plt.figure(figsize = (20, 5))\n",
    "plt.style.use('seaborn-whitegrid')\n",
    "ax = sns.countplot(x = 'rating', data = disney_plus)\n",
    "plt.xlabel('Rating')\n",
    "plt.ylabel('Count')\n",
    "plt.xticks(rotation = 45)\n",
    "for p in ax.patches:\n",
    "    ax.annotate(int(p.get_height()), (p.get_x()+0.25, p.get_height()+1), va = 'bottom', color = 'black')"
   ]
  },
  {
   "cell_type": "code",
   "execution_count": 33,
   "id": "10d1a41f",
   "metadata": {},
   "outputs": [
    {
     "name": "stderr",
     "output_type": "stream",
     "text": [
      "C:\\Users\\Dell\\AppData\\Local\\Temp\\ipykernel_16240\\1537956491.py:4: MatplotlibDeprecationWarning: The seaborn styles shipped by Matplotlib are deprecated since 3.6, as they no longer correspond to the styles shipped by seaborn. However, they will remain available as 'seaborn-v0_8-<style>'. Alternatively, directly use the seaborn API instead.\n",
      "  plt.style.use('seaborn-whitegrid')\n"
     ]
    },
    {
     "data": {
      "image/png": "[encoded data removed]",
      "text/plain": [
       "<Figure size 2500x800 with 1 Axes>"
      ]
     },
     "metadata": {},
     "output_type": "display_data"
    }
   ],
   "source": [
    "##Checking how many Content release each year\n",
    "\n",
    "plt.figure(figsize = (25, 8))\n",
    "plt.style.use('seaborn-whitegrid')\n",
    "ax = sns.countplot(x = 'release_year', data = disney_plus, palette = \"Accent\")\n",
    "plt.xlabel('Year of Release')\n",
    "plt.ylabel('Count')\n",
    "plt.xticks(rotation = 45)\n",
    "for p in ax.patches:\n",
    " ax.annotate(int(p.get_height()), (p.get_x()+0.25, p.get_height()+1), va = 'bottom', color = 'black')\n"
   ]
  },
  {
   "cell_type": "code",
   "execution_count": 34,
   "id": "56c20ca3",
   "metadata": {},
   "outputs": [
    {
     "data": {
      "text/plain": [
       "show_id                 object\n",
       "type                    object\n",
       "title                   object\n",
       "director                object\n",
       "cast                    object\n",
       "country                 object\n",
       "date_added      datetime64[ns]\n",
       "release_year             int64\n",
       "rating                  object\n",
       "duration                object\n",
       "listed_in               object\n",
       "description             object\n",
       "dtype: object"
      ]
     },
     "execution_count": 34,
     "metadata": {},
     "output_type": "execute_result"
    }
   ],
   "source": [
    "##changing \"date_added\" column type from object to datetime64[ns]\n",
    "disney_plus['date_added'] = pd.to_datetime(disney_plus['date_added'])\n",
    "disney_plus.dtypes"
   ]
  },
  {
   "cell_type": "code",
   "execution_count": 35,
   "id": "f9e5be7c",
   "metadata": {},
   "outputs": [
    {
     "data": {
      "text/html": [
       "<div>\n",
       "<style scoped>\n",
       "    .dataframe tbody tr th:only-of-type {\n",
       "        vertical-align: middle;\n",
       "    }\n",
       "\n",
       "    .dataframe tbody tr th {\n",
       "        vertical-align: top;\n",
       "    }\n",
       "\n",
       "    .dataframe thead th {\n",
       "        text-align: right;\n",
       "    }\n",
       "</style>\n",
       "<table border=\"1\" class=\"dataframe\">\n",
       "  <thead>\n",
       "    <tr style=\"text-align: right;\">\n",
       "      <th></th>\n",
       "      <th>show_id</th>\n",
       "      <th>type</th>\n",
       "      <th>title</th>\n",
       "      <th>director</th>\n",
       "      <th>cast</th>\n",
       "      <th>country</th>\n",
       "      <th>date_added</th>\n",
       "      <th>release_year</th>\n",
       "      <th>rating</th>\n",
       "      <th>duration</th>\n",
       "      <th>listed_in</th>\n",
       "      <th>description</th>\n",
       "    </tr>\n",
       "  </thead>\n",
       "  <tbody>\n",
       "    <tr>\n",
       "      <th>1105</th>\n",
       "      <td>s1106</td>\n",
       "      <td>Movie</td>\n",
       "      <td>Saving Mr. Banks</td>\n",
       "      <td>John Hancock</td>\n",
       "      <td>Emma Thompson Tom Hanks Colin Farrell Paul Gia...</td>\n",
       "      <td>Australia</td>\n",
       "      <td>2019-11-12</td>\n",
       "      <td>2013</td>\n",
       "      <td>PG-13</td>\n",
       "      <td>129 min</td>\n",
       "      <td>Drama</td>\n",
       "      <td>Discover the untold story behind Walt Disney's...</td>\n",
       "    </tr>\n",
       "  </tbody>\n",
       "</table>\n",
       "</div>"
      ],
      "text/plain": [
       "     show_id   type             title      director  \\\n",
       "1105   s1106  Movie  Saving Mr. Banks  John Hancock   \n",
       "\n",
       "                                                   cast    country date_added  \\\n",
       "1105  Emma Thompson Tom Hanks Colin Farrell Paul Gia...  Australia 2019-11-12   \n",
       "\n",
       "      release_year rating duration listed_in  \\\n",
       "1105          2013  PG-13  129 min    Drama    \n",
       "\n",
       "                                            description  \n",
       "1105  Discover the untold story behind Walt Disney's...  "
      ]
     },
     "execution_count": 35,
     "metadata": {},
     "output_type": "execute_result"
    }
   ],
   "source": [
    "disney_plus.sample()"
   ]
  },
  {
   "cell_type": "code",
   "execution_count": 36,
   "id": "30c2a408",
   "metadata": {},
   "outputs": [
    {
     "data": {
      "text/html": [
       "<div>\n",
       "<style scoped>\n",
       "    .dataframe tbody tr th:only-of-type {\n",
       "        vertical-align: middle;\n",
       "    }\n",
       "\n",
       "    .dataframe tbody tr th {\n",
       "        vertical-align: top;\n",
       "    }\n",
       "\n",
       "    .dataframe thead th {\n",
       "        text-align: right;\n",
       "    }\n",
       "</style>\n",
       "<table border=\"1\" class=\"dataframe\">\n",
       "  <thead>\n",
       "    <tr style=\"text-align: right;\">\n",
       "      <th></th>\n",
       "      <th>show_id</th>\n",
       "      <th>type</th>\n",
       "      <th>title</th>\n",
       "      <th>director</th>\n",
       "      <th>cast</th>\n",
       "      <th>country</th>\n",
       "      <th>date_added</th>\n",
       "      <th>release_year</th>\n",
       "      <th>rating</th>\n",
       "      <th>duration</th>\n",
       "      <th>listed_in</th>\n",
       "      <th>description</th>\n",
       "    </tr>\n",
       "  </thead>\n",
       "  <tbody>\n",
       "    <tr>\n",
       "      <th>812</th>\n",
       "      <td>s813</td>\n",
       "      <td>TV Show</td>\n",
       "      <td>Fantastic Four: World's Greatest Heroes</td>\n",
       "      <td>NaN</td>\n",
       "      <td>Christopher Jacot Hiro Kanagawa Lara Gilchrist...</td>\n",
       "      <td>United States</td>\n",
       "      <td>2019-11-12</td>\n",
       "      <td>2007</td>\n",
       "      <td>TV-Y7</td>\n",
       "      <td>1 Season</td>\n",
       "      <td>Animation</td>\n",
       "      <td>Watch Mr. Fantastic Invisible Woman Human Torc...</td>\n",
       "    </tr>\n",
       "    <tr>\n",
       "      <th>1051</th>\n",
       "      <td>s1052</td>\n",
       "      <td>TV Show</td>\n",
       "      <td>Phineas and Ferb</td>\n",
       "      <td>NaN</td>\n",
       "      <td>Vincent Martella Ashley Tisdale Thomas Sangste...</td>\n",
       "      <td>South Korea</td>\n",
       "      <td>2019-11-12</td>\n",
       "      <td>2007</td>\n",
       "      <td>TV-G</td>\n",
       "      <td>4 Seasons</td>\n",
       "      <td>Animation</td>\n",
       "      <td>Phineas and Ferb have big summertime adventure...</td>\n",
       "    </tr>\n",
       "    <tr>\n",
       "      <th>1339</th>\n",
       "      <td>s1340</td>\n",
       "      <td>TV Show</td>\n",
       "      <td>Wizards of Waverly Place</td>\n",
       "      <td>NaN</td>\n",
       "      <td>Selena Gomez David Henrie Jake Austin Jennifer...</td>\n",
       "      <td>United States</td>\n",
       "      <td>2019-11-12</td>\n",
       "      <td>2007</td>\n",
       "      <td>TV-G</td>\n",
       "      <td>4 Seasons</td>\n",
       "      <td>Comedy</td>\n",
       "      <td>Alex Justin and Max Russo are not your ordinar...</td>\n",
       "    </tr>\n",
       "  </tbody>\n",
       "</table>\n",
       "</div>"
      ],
      "text/plain": [
       "     show_id     type                                    title director  \\\n",
       "812     s813  TV Show  Fantastic Four: World's Greatest Heroes      NaN   \n",
       "1051   s1052  TV Show                         Phineas and Ferb      NaN   \n",
       "1339   s1340  TV Show                 Wizards of Waverly Place      NaN   \n",
       "\n",
       "                                                   cast        country  \\\n",
       "812   Christopher Jacot Hiro Kanagawa Lara Gilchrist...  United States   \n",
       "1051  Vincent Martella Ashley Tisdale Thomas Sangste...   South Korea    \n",
       "1339  Selena Gomez David Henrie Jake Austin Jennifer...  United States   \n",
       "\n",
       "     date_added  release_year rating   duration  listed_in  \\\n",
       "812  2019-11-12          2007  TV-Y7   1 Season  Animation   \n",
       "1051 2019-11-12          2007   TV-G  4 Seasons  Animation   \n",
       "1339 2019-11-12          2007   TV-G  4 Seasons    Comedy    \n",
       "\n",
       "                                            description  \n",
       "812   Watch Mr. Fantastic Invisible Woman Human Torc...  \n",
       "1051  Phineas and Ferb have big summertime adventure...  \n",
       "1339  Alex Justin and Max Russo are not your ordinar...  "
      ]
     },
     "execution_count": 36,
     "metadata": {},
     "output_type": "execute_result"
    }
   ],
   "source": [
    "##For example :- How many TV Shows released in 2007\n",
    "\n",
    "disney_plus[(disney_plus[\"type\"] == \"TV Show\") & (disney_plus[\"release_year\"] == 2007)]"
   ]
  },
  {
   "cell_type": "code",
   "execution_count": 37,
   "id": "c6199bab",
   "metadata": {},
   "outputs": [
    {
     "data": {
      "text/html": [
       "<div>\n",
       "<style scoped>\n",
       "    .dataframe tbody tr th:only-of-type {\n",
       "        vertical-align: middle;\n",
       "    }\n",
       "\n",
       "    .dataframe tbody tr th {\n",
       "        vertical-align: top;\n",
       "    }\n",
       "\n",
       "    .dataframe thead th {\n",
       "        text-align: right;\n",
       "    }\n",
       "</style>\n",
       "<table border=\"1\" class=\"dataframe\">\n",
       "  <thead>\n",
       "    <tr style=\"text-align: right;\">\n",
       "      <th></th>\n",
       "      <th>show_id</th>\n",
       "      <th>type</th>\n",
       "      <th>title</th>\n",
       "      <th>director</th>\n",
       "      <th>cast</th>\n",
       "      <th>country</th>\n",
       "      <th>date_added</th>\n",
       "      <th>release_year</th>\n",
       "      <th>rating</th>\n",
       "      <th>duration</th>\n",
       "      <th>listed_in</th>\n",
       "      <th>description</th>\n",
       "    </tr>\n",
       "  </thead>\n",
       "  <tbody>\n",
       "    <tr>\n",
       "      <th>42</th>\n",
       "      <td>s43</td>\n",
       "      <td>Movie</td>\n",
       "      <td>X-Men</td>\n",
       "      <td>Bryan Singer</td>\n",
       "      <td>Patrick Stewart Hugh Jackman Ian McKellen Hall...</td>\n",
       "      <td>United States</td>\n",
       "      <td>2021-08-13</td>\n",
       "      <td>2000</td>\n",
       "      <td>PG-13</td>\n",
       "      <td>105 min</td>\n",
       "      <td>Family</td>\n",
       "      <td>The X-Men a small band of outcast mutants figh...</td>\n",
       "    </tr>\n",
       "  </tbody>\n",
       "</table>\n",
       "</div>"
      ],
      "text/plain": [
       "   show_id   type  title      director  \\\n",
       "42     s43  Movie  X-Men  Bryan Singer   \n",
       "\n",
       "                                                 cast        country  \\\n",
       "42  Patrick Stewart Hugh Jackman Ian McKellen Hall...  United States   \n",
       "\n",
       "   date_added  release_year rating duration listed_in  \\\n",
       "42 2021-08-13          2000  PG-13  105 min    Family   \n",
       "\n",
       "                                          description  \n",
       "42  The X-Men a small band of outcast mutants figh...  "
      ]
     },
     "execution_count": 37,
     "metadata": {},
     "output_type": "execute_result"
    }
   ],
   "source": [
    "##Checking the availability of Content on Disney Plus by their name\n",
    "disney_plus[disney_plus[\"title\"].isin([\"X-Men\"])]"
   ]
  },
  {
   "cell_type": "code",
   "execution_count": 38,
   "id": "0d6880f1",
   "metadata": {},
   "outputs": [
    {
     "name": "stderr",
     "output_type": "stream",
     "text": [
      "C:\\Users\\Dell\\AppData\\Local\\Temp\\ipykernel_16240\\3727343993.py:4: MatplotlibDeprecationWarning: The seaborn styles shipped by Matplotlib are deprecated since 3.6, as they no longer correspond to the styles shipped by seaborn. However, they will remain available as 'seaborn-v0_8-<style>'. Alternatively, directly use the seaborn API instead.\n",
      "  plt.style.use('seaborn-whitegrid')\n"
     ]
    },
    {
     "data": {
      "image/png": "[encoded data removed]",
      "text/plain": [
       "<Figure size 1600x400 with 1 Axes>"
      ]
     },
     "metadata": {},
     "output_type": "display_data"
    }
   ],
   "source": [
    "##Plotting histogram on how many Content release each year by using - Matplotlib\n",
    "\n",
    "plt.figure(figsize=(16, 4))\n",
    "plt.style.use('seaborn-whitegrid')\n",
    "plt.hist(disney_plus[\"release_year\"], bins = 90, facecolor = '#F47340', edgecolor='#323232', linewidth=0.5)\n",
    "plt.title('Distribution')\n",
    "plt.xlabel('Year of Release')\n",
    "plt.ylabel('Count')\n",
    "plt.show()\n"
   ]
  },
  {
   "cell_type": "code",
   "execution_count": 39,
   "id": "855dbf59",
   "metadata": {},
   "outputs": [
    {
     "data": {
      "text/plain": [
       "766"
      ]
     },
     "execution_count": 39,
     "metadata": {},
     "output_type": "execute_result"
    }
   ],
   "source": [
    "## Number of Movies made only in United States\n",
    "\n",
    "movies_only_in_United_States = disney_plus[(disney_plus[\"type\"] == \"Movie\") & (disney_plus[\"country\"] == \"United States\")][\"title\"]\n",
    "movies_only_in_United_States.count()"
   ]
  },
  {
   "cell_type": "code",
   "execution_count": 40,
   "id": "97038694",
   "metadata": {},
   "outputs": [
    {
     "data": {
      "text/plain": [
       "296"
      ]
     },
     "execution_count": 40,
     "metadata": {},
     "output_type": "execute_result"
    }
   ],
   "source": [
    "## Number of TV shows made only in United States\n",
    "\n",
    "tv_show_only_in_United_States = disney_plus[(disney_plus[\"type\"] == \"TV Show\") & (disney_plus[\"country\"] == \"United States\")][\"title\"]\n",
    "tv_show_only_in_United_States.count()"
   ]
  },
  {
   "cell_type": "code",
   "execution_count": 41,
   "id": "fde96901",
   "metadata": {},
   "outputs": [
    {
     "data": {
      "text/plain": [
       "0        9.0\n",
       "1        9.0\n",
       "2        9.0\n",
       "3        9.0\n",
       "4        9.0\n",
       "        ... \n",
       "1363    10.0\n",
       "1364    10.0\n",
       "1365     NaN\n",
       "1366     NaN\n",
       "1367     NaN\n",
       "Name: date_added, Length: 1368, dtype: float64"
      ]
     },
     "execution_count": 41,
     "metadata": {},
     "output_type": "execute_result"
    }
   ],
   "source": [
    "## Working with Month Wise Content Added\n",
    "\n",
    "disney_plus[\"date_added\"].dt.month\n",
    "\n"
   ]
  },
  {
   "cell_type": "code",
   "execution_count": 42,
   "id": "e887dd0b",
   "metadata": {},
   "outputs": [
    {
     "data": {
      "text/plain": [
       "array([ 9.,  8.,  7.,  6.,  5.,  4.,  3.,  2.,  1., 12., 11., 10., -1.])"
      ]
     },
     "execution_count": 42,
     "metadata": {},
     "output_type": "execute_result"
    }
   ],
   "source": [
    "disney_plus[\"date_added_month\"] = disney_plus[\"date_added\"].dt.month.fillna(-1)\n",
    "disney_plus[\"date_added_month\"].unique()\n"
   ]
  },
  {
   "cell_type": "code",
   "execution_count": 43,
   "id": "539c2c03",
   "metadata": {},
   "outputs": [
    {
     "name": "stdout",
     "output_type": "stream",
     "text": [
      "<class 'pandas.core.frame.DataFrame'>\n",
      "RangeIndex: 1368 entries, 0 to 1367\n",
      "Data columns (total 13 columns):\n",
      " #   Column            Non-Null Count  Dtype         \n",
      "---  ------            --------------  -----         \n",
      " 0   show_id           1368 non-null   object        \n",
      " 1   type              1368 non-null   object        \n",
      " 2   title             1368 non-null   object        \n",
      " 3   director          928 non-null    object        \n",
      " 4   cast              1194 non-null   object        \n",
      " 5   country           1368 non-null   object        \n",
      " 6   date_added        1365 non-null   datetime64[ns]\n",
      " 7   release_year      1368 non-null   int64         \n",
      " 8   rating            1366 non-null   object        \n",
      " 9   duration          1368 non-null   object        \n",
      " 10  listed_in         1368 non-null   object        \n",
      " 11  description       1368 non-null   object        \n",
      " 12  date_added_month  1368 non-null   Int64         \n",
      "dtypes: Int64(1), datetime64[ns](1), int64(1), object(10)\n",
      "memory usage: 140.4+ KB\n"
     ]
    }
   ],
   "source": [
    "disney_plus[\"date_added_month\"] = disney_plus[\"date_added_month\"].astype(\"Int64\")\n",
    "disney_plus.info()"
   ]
  },
  {
   "cell_type": "code",
   "execution_count": 44,
   "id": "83325171",
   "metadata": {},
   "outputs": [
    {
     "data": {
      "image/png": "[encoded data removed]",
      "text/plain": [
       "<Figure size 1500x500 with 1 Axes>"
      ]
     },
     "metadata": {},
     "output_type": "display_data"
    }
   ],
   "source": [
    "plt.figure(figsize = (15, 5))\n",
    "ax = sns.countplot(x = 'date_added_month', data = disney_plus)\n",
    "plt.xlabel('Month Wise Content Added')\n",
    "plt.ylabel('Count')\n",
    "for p in ax.patches:\n",
    "    ax.annotate(int(p.get_height()), (p.get_x()+0.25, p.get_height()+1), va = 'bottom', color = 'black')\n"
   ]
  },
  {
   "cell_type": "code",
   "execution_count": 45,
   "id": "cf2b3940",
   "metadata": {},
   "outputs": [
    {
     "data": {
      "text/plain": [
       "United States     1081\n",
       "United Kingdom     101\n",
       "Canada              71\n",
       "Australia           21\n",
       "France              16\n",
       "South Korea         14\n",
       "China               12\n",
       "Japan               10\n",
       "Germany              9\n",
       "Ireland              6\n",
       "Name: country, dtype: int64"
      ]
     },
     "execution_count": 45,
     "metadata": {},
     "output_type": "execute_result"
    }
   ],
   "source": [
    "## Top 10 country where most of the contents are produced\n",
    "\n",
    "\n",
    "country_count = disney_plus['country'].str.strip().value_counts()\n",
    "country_count.head(10)"
   ]
  },
  {
   "cell_type": "code",
   "execution_count": 46,
   "id": "777534e7",
   "metadata": {},
   "outputs": [
    {
     "data": {
      "text/plain": [
       "<AxesSubplot: >"
      ]
     },
     "execution_count": 46,
     "metadata": {},
     "output_type": "execute_result"
    },
    {
     "data": {
      "image/png": "[encoded data removed]",
      "text/plain": [
       "<Figure size 1500x700 with 1 Axes>"
      ]
     },
     "metadata": {},
     "output_type": "display_data"
    }
   ],
   "source": [
    "plt.figure(figsize = (15, 7))\n",
    "country_count = disney_plus['country'].str.strip().value_counts()[:10]\n",
    "sns.barplot(x = country_count.values, y = country_count.index, palette = \"Accent\")"
   ]
  },
  {
   "cell_type": "code",
   "execution_count": 47,
   "id": "03e1a8b1",
   "metadata": {},
   "outputs": [
    {
     "data": {
      "text/plain": [
       "<AxesSubplot: xlabel='cast'>"
      ]
     },
     "execution_count": 47,
     "metadata": {},
     "output_type": "execute_result"
    },
    {
     "data": {
      "image/png": "[encoded data removed]",
      "text/plain": [
       "<Figure size 1000x600 with 1 Axes>"
      ]
     },
     "metadata": {},
     "output_type": "display_data"
    }
   ],
   "source": [
    "## Top 10 Actors acted in most number of Content\n",
    "\n",
    "\n",
    "cast_count =  disney_plus.copy()\n",
    "cast_count = pd.concat([cast_count,  disney_plus[\"cast\"].str.split(\",\", expand = True)], axis = 1)\n",
    "plt.figure(figsize = (10, 6))\n",
    "cast = cast_count[\"cast\"].value_counts()[:10]\n",
    "sns.barplot(x = cast, y = cast.index, palette = \"gist_ncar\")\n"
   ]
  },
  {
   "cell_type": "code",
   "execution_count": 48,
   "id": "5e024a7f",
   "metadata": {},
   "outputs": [
    {
     "data": {
      "text/html": [
       "<div>\n",
       "<style scoped>\n",
       "    .dataframe tbody tr th:only-of-type {\n",
       "        vertical-align: middle;\n",
       "    }\n",
       "\n",
       "    .dataframe tbody tr th {\n",
       "        vertical-align: top;\n",
       "    }\n",
       "\n",
       "    .dataframe thead th {\n",
       "        text-align: right;\n",
       "    }\n",
       "</style>\n",
       "<table border=\"1\" class=\"dataframe\">\n",
       "  <thead>\n",
       "    <tr style=\"text-align: right;\">\n",
       "      <th></th>\n",
       "      <th>Genre</th>\n",
       "      <th>Frequency</th>\n",
       "    </tr>\n",
       "  </thead>\n",
       "  <tbody>\n",
       "    <tr>\n",
       "      <th>0</th>\n",
       "      <td>Family</td>\n",
       "      <td>414</td>\n",
       "    </tr>\n",
       "    <tr>\n",
       "      <th>1</th>\n",
       "      <td>Animation</td>\n",
       "      <td>401</td>\n",
       "    </tr>\n",
       "    <tr>\n",
       "      <th>2</th>\n",
       "      <td>Documentary</td>\n",
       "      <td>236</td>\n",
       "    </tr>\n",
       "    <tr>\n",
       "      <th>3</th>\n",
       "      <td>Comedy</td>\n",
       "      <td>133</td>\n",
       "    </tr>\n",
       "    <tr>\n",
       "      <th>4</th>\n",
       "      <td>Action-Adventure</td>\n",
       "      <td>107</td>\n",
       "    </tr>\n",
       "    <tr>\n",
       "      <th>5</th>\n",
       "      <td>Drama</td>\n",
       "      <td>70</td>\n",
       "    </tr>\n",
       "    <tr>\n",
       "      <th>6</th>\n",
       "      <td>Anime</td>\n",
       "      <td>4</td>\n",
       "    </tr>\n",
       "    <tr>\n",
       "      <th>7</th>\n",
       "      <td>Mystery</td>\n",
       "      <td>2</td>\n",
       "    </tr>\n",
       "    <tr>\n",
       "      <th>8</th>\n",
       "      <td>Movies</td>\n",
       "      <td>1</td>\n",
       "    </tr>\n",
       "  </tbody>\n",
       "</table>\n",
       "</div>"
      ],
      "text/plain": [
       "              Genre  Frequency\n",
       "0            Family        414\n",
       "1         Animation        401\n",
       "2       Documentary        236\n",
       "3            Comedy        133\n",
       "4  Action-Adventure        107\n",
       "5             Drama         70\n",
       "6             Anime          4\n",
       "7           Mystery          2\n",
       "8            Movies          1"
      ]
     },
     "execution_count": 48,
     "metadata": {},
     "output_type": "execute_result"
    }
   ],
   "source": [
    "##Top 10 Genere for the content\n",
    "\n",
    "\n",
    "top_10_genres =  disney_plus['listed_in'].str.strip().value_counts().nlargest(10)\n",
    "\n",
    "top_10_genres_df = top_10_genres.to_frame('Frequency').reset_index()\n",
    "top_10_genres_df.columns = ['Genre', 'Frequency']\n",
    "top_10_genres_df"
   ]
  },
  {
   "cell_type": "code",
   "execution_count": 51,
   "id": "7814c42d",
   "metadata": {},
   "outputs": [
    {
     "data": {
      "text/plain": [
       "<AxesSubplot: xlabel='Frequency', ylabel='Genre'>"
      ]
     },
     "execution_count": 51,
     "metadata": {},
     "output_type": "execute_result"
    },
    {
     "data": {
      "image/png": "[encoded data removed]",
      "text/plain": [
       "<Figure size 2000x800 with 1 Axes>"
      ]
     },
     "metadata": {},
     "output_type": "display_data"
    }
   ],
   "source": [
    "plt.figure(figsize = (20, 8))\n",
    "sns.barplot(x = 'Frequency', y = 'Genre', data = top_10_genres_df, palette = \"Dark2\")"
   ]
  },
  {
   "cell_type": "code",
   "execution_count": 52,
   "id": "1a1fbbcc",
   "metadata": {},
   "outputs": [
    {
     "data": {
      "text/plain": [
       "578"
      ]
     },
     "execution_count": 52,
     "metadata": {},
     "output_type": "execute_result"
    }
   ],
   "source": [
    "##Top 10 Directors who directed in most number of Content\n",
    "\n",
    "director_count =  disney_plus.copy()\n",
    "director_count = pd.concat([director_count,  disney_plus[\"director\"].str.split(\",\", expand = True)], axis = 1)\n",
    "director_count[\"director\"].nunique()"
   ]
  },
  {
   "cell_type": "code",
   "execution_count": 53,
   "id": "75bcdcbe",
   "metadata": {},
   "outputs": [
    {
     "data": {
      "text/plain": [
       "Jack Hannah                               17\n",
       "John Lasseter                             16\n",
       "Paul Hoen                                 16\n",
       "Charles Nichols                           12\n",
       "Robert Stevenson                          12\n",
       "                                          ..\n",
       "Jim Abrahams                               1\n",
       "Frank Coraci                               1\n",
       "Tom McCarthy                               1\n",
       "Wayne Wang                                 1\n",
       "John Musker Ron Clements Dave Michener     1\n",
       "Name: director, Length: 578, dtype: int64"
      ]
     },
     "execution_count": 53,
     "metadata": {},
     "output_type": "execute_result"
    }
   ],
   "source": [
    " director_count[\"director\"].value_counts()"
   ]
  },
  {
   "cell_type": "code",
   "execution_count": 62,
   "id": "c2f3e3b4",
   "metadata": {},
   "outputs": [
    {
     "data": {
      "text/plain": [
       "<AxesSubplot: >"
      ]
     },
     "execution_count": 62,
     "metadata": {},
     "output_type": "execute_result"
    },
    {
     "data": {
      "image/png": "[encoded data removed]",
      "text/plain": [
       "<Figure size 2000x800 with 1 Axes>"
      ]
     },
     "metadata": {},
     "output_type": "display_data"
    }
   ],
   "source": [
    "plt.figure(figsize = (20, 8))\n",
    "director_count =  disney_plus[\"director\"].value_counts()[:10]\n",
    "sns.barplot(x = director_count.index, y = director_count.values, palette = \"Spectral\")"
   ]
  },
  {
   "cell_type": "code",
   "execution_count": 67,
   "id": "e68ac6d8",
   "metadata": {},
   "outputs": [
    {
     "data": {
      "text/html": [
       "<div>\n",
       "<style scoped>\n",
       "    .dataframe tbody tr th:only-of-type {\n",
       "        vertical-align: middle;\n",
       "    }\n",
       "\n",
       "    .dataframe tbody tr th {\n",
       "        vertical-align: top;\n",
       "    }\n",
       "\n",
       "    .dataframe thead th {\n",
       "        text-align: right;\n",
       "    }\n",
       "</style>\n",
       "<table border=\"1\" class=\"dataframe\">\n",
       "  <thead>\n",
       "    <tr style=\"text-align: right;\">\n",
       "      <th></th>\n",
       "      <th>type</th>\n",
       "      <th>ratings_count</th>\n",
       "    </tr>\n",
       "    <tr>\n",
       "      <th>rating</th>\n",
       "      <th></th>\n",
       "      <th></th>\n",
       "    </tr>\n",
       "  </thead>\n",
       "  <tbody>\n",
       "    <tr>\n",
       "      <th>G</th>\n",
       "      <td>Movie</td>\n",
       "      <td>235</td>\n",
       "    </tr>\n",
       "    <tr>\n",
       "      <th>PG</th>\n",
       "      <td>Movie</td>\n",
       "      <td>226</td>\n",
       "    </tr>\n",
       "    <tr>\n",
       "      <th>PG-13</th>\n",
       "      <td>Movie</td>\n",
       "      <td>60</td>\n",
       "    </tr>\n",
       "    <tr>\n",
       "      <th>TV-14</th>\n",
       "      <td>Movie</td>\n",
       "      <td>36</td>\n",
       "    </tr>\n",
       "    <tr>\n",
       "      <th>TV-G</th>\n",
       "      <td>Movie</td>\n",
       "      <td>224</td>\n",
       "    </tr>\n",
       "    <tr>\n",
       "      <th>TV-PG</th>\n",
       "      <td>Movie</td>\n",
       "      <td>165</td>\n",
       "    </tr>\n",
       "    <tr>\n",
       "      <th>TV-Y</th>\n",
       "      <td>Movie</td>\n",
       "      <td>2</td>\n",
       "    </tr>\n",
       "    <tr>\n",
       "      <th>TV-Y7</th>\n",
       "      <td>Movie</td>\n",
       "      <td>36</td>\n",
       "    </tr>\n",
       "    <tr>\n",
       "      <th>TV-Y7-FV</th>\n",
       "      <td>Movie</td>\n",
       "      <td>6</td>\n",
       "    </tr>\n",
       "  </tbody>\n",
       "</table>\n",
       "</div>"
      ],
      "text/plain": [
       "           type  ratings_count\n",
       "rating                        \n",
       "G         Movie            235\n",
       "PG        Movie            226\n",
       "PG-13     Movie             60\n",
       "TV-14     Movie             36\n",
       "TV-G      Movie            224\n",
       "TV-PG     Movie            165\n",
       "TV-Y      Movie              2\n",
       "TV-Y7     Movie             36\n",
       "TV-Y7-FV  Movie              6"
      ]
     },
     "execution_count": 67,
     "metadata": {},
     "output_type": "execute_result"
    }
   ],
   "source": [
    "##Number of Movies in Rating\n",
    "\n",
    "\n",
    "show_rating =  disney_plus.groupby(['rating', 'type'])['rating'].count().reset_index(name='ratings_count')\n",
    "show_rating = show_rating.set_index('rating')\n",
    "rating_movie =  disney_plus.groupby(['rating', 'type'])['rating'].count().reset_index(name='ratings_count')\n",
    "rating_movie = rating_movie.set_index('rating')\n",
    "filter = rating_movie[\"type\"] == \"Movie\"\n",
    "\n",
    "# filtering data\n",
    "\n",
    "rating_movie = rating_movie[filter].dropna()\n",
    "rating_movie"
   ]
  },
  {
   "cell_type": "code",
   "execution_count": 66,
   "id": "c090bee0",
   "metadata": {},
   "outputs": [
    {
     "data": {
      "text/html": [
       "<div>\n",
       "<style scoped>\n",
       "    .dataframe tbody tr th:only-of-type {\n",
       "        vertical-align: middle;\n",
       "    }\n",
       "\n",
       "    .dataframe tbody tr th {\n",
       "        vertical-align: top;\n",
       "    }\n",
       "\n",
       "    .dataframe thead th {\n",
       "        text-align: right;\n",
       "    }\n",
       "</style>\n",
       "<table border=\"1\" class=\"dataframe\">\n",
       "  <thead>\n",
       "    <tr style=\"text-align: right;\">\n",
       "      <th></th>\n",
       "      <th>show_id</th>\n",
       "      <th>type</th>\n",
       "      <th>title</th>\n",
       "      <th>director</th>\n",
       "      <th>cast</th>\n",
       "      <th>country</th>\n",
       "      <th>date_added</th>\n",
       "      <th>release_year</th>\n",
       "      <th>rating</th>\n",
       "      <th>duration</th>\n",
       "      <th>listed_in</th>\n",
       "      <th>description</th>\n",
       "      <th>date_added_month</th>\n",
       "    </tr>\n",
       "  </thead>\n",
       "  <tbody>\n",
       "    <tr>\n",
       "      <th>0</th>\n",
       "      <td>s1</td>\n",
       "      <td>Movie</td>\n",
       "      <td>A Spark Story</td>\n",
       "      <td>Jason Sterman Leanne Dare</td>\n",
       "      <td>Apthon Corbin Louis Gonzales</td>\n",
       "      <td>United Kingdom</td>\n",
       "      <td>2021-09-24</td>\n",
       "      <td>2021</td>\n",
       "      <td>TV-PG</td>\n",
       "      <td>88 min</td>\n",
       "      <td>Documentary</td>\n",
       "      <td>Two Pixar filmmakers strive to bring their uni...</td>\n",
       "      <td>9</td>\n",
       "    </tr>\n",
       "    <tr>\n",
       "      <th>1</th>\n",
       "      <td>s2</td>\n",
       "      <td>Movie</td>\n",
       "      <td>Spooky Buddies</td>\n",
       "      <td>Robert Vince</td>\n",
       "      <td>Tucker Albrizzi Diedrich Bader Ameko Eks Mass ...</td>\n",
       "      <td>Canada</td>\n",
       "      <td>2021-09-24</td>\n",
       "      <td>2011</td>\n",
       "      <td>G</td>\n",
       "      <td>93 min</td>\n",
       "      <td>Animation</td>\n",
       "      <td>The puppies go on a spooky adventure through a...</td>\n",
       "      <td>9</td>\n",
       "    </tr>\n",
       "    <tr>\n",
       "      <th>2</th>\n",
       "      <td>s3</td>\n",
       "      <td>Movie</td>\n",
       "      <td>The Fault in Our Stars</td>\n",
       "      <td>Josh Boone</td>\n",
       "      <td>Shailene Woodley Ansel Elgort Laura Dern Sam T...</td>\n",
       "      <td>United States</td>\n",
       "      <td>2021-09-24</td>\n",
       "      <td>2014</td>\n",
       "      <td>PG-13</td>\n",
       "      <td>127 min</td>\n",
       "      <td>Drama</td>\n",
       "      <td>Hazel and Gus share a love that sweeps them on...</td>\n",
       "      <td>9</td>\n",
       "    </tr>\n",
       "    <tr>\n",
       "      <th>3</th>\n",
       "      <td>s4</td>\n",
       "      <td>TV Show</td>\n",
       "      <td>Dog: Impossible</td>\n",
       "      <td>NaN</td>\n",
       "      <td>Matt Beisner</td>\n",
       "      <td>United States</td>\n",
       "      <td>2021-09-22</td>\n",
       "      <td>2019</td>\n",
       "      <td>TV-PG</td>\n",
       "      <td>2 Seasons</td>\n",
       "      <td>Family</td>\n",
       "      <td>Matt Beisner uses unique approaches to modifyi...</td>\n",
       "      <td>9</td>\n",
       "    </tr>\n",
       "    <tr>\n",
       "      <th>4</th>\n",
       "      <td>s5</td>\n",
       "      <td>TV Show</td>\n",
       "      <td>Spidey And His Amazing Friends</td>\n",
       "      <td>NaN</td>\n",
       "      <td>Benjamin Valic Lily Sanfelippo Jakari Fraser D...</td>\n",
       "      <td>United States</td>\n",
       "      <td>2021-09-22</td>\n",
       "      <td>2021</td>\n",
       "      <td>TV-Y</td>\n",
       "      <td>1 Season</td>\n",
       "      <td>Animation</td>\n",
       "      <td>Spidey teams up with pals to become The Spidey...</td>\n",
       "      <td>9</td>\n",
       "    </tr>\n",
       "    <tr>\n",
       "      <th>...</th>\n",
       "      <td>...</td>\n",
       "      <td>...</td>\n",
       "      <td>...</td>\n",
       "      <td>...</td>\n",
       "      <td>...</td>\n",
       "      <td>...</td>\n",
       "      <td>...</td>\n",
       "      <td>...</td>\n",
       "      <td>...</td>\n",
       "      <td>...</td>\n",
       "      <td>...</td>\n",
       "      <td>...</td>\n",
       "      <td>...</td>\n",
       "    </tr>\n",
       "    <tr>\n",
       "      <th>1363</th>\n",
       "      <td>s1364</td>\n",
       "      <td>Movie</td>\n",
       "      <td>The Sword in the Stone</td>\n",
       "      <td>Wolfgang Reitherman</td>\n",
       "      <td>Sebastian Cabot Karl Swenson Rickie Sorensen J...</td>\n",
       "      <td>United States</td>\n",
       "      <td>2019-10-01</td>\n",
       "      <td>1963</td>\n",
       "      <td>G</td>\n",
       "      <td>80 min</td>\n",
       "      <td>Animation</td>\n",
       "      <td>Merlin trains a young orphan who's destined to...</td>\n",
       "      <td>10</td>\n",
       "    </tr>\n",
       "    <tr>\n",
       "      <th>1364</th>\n",
       "      <td>s1365</td>\n",
       "      <td>Movie</td>\n",
       "      <td>Those Calloways</td>\n",
       "      <td>Norman Tokar</td>\n",
       "      <td>Brian Keith Vera Miles Brandon de Wilde Walter...</td>\n",
       "      <td>United States</td>\n",
       "      <td>2019-10-01</td>\n",
       "      <td>1965</td>\n",
       "      <td>PG</td>\n",
       "      <td>132 min</td>\n",
       "      <td>Family</td>\n",
       "      <td>A strong-willed family struggles to establish ...</td>\n",
       "      <td>10</td>\n",
       "    </tr>\n",
       "    <tr>\n",
       "      <th>1365</th>\n",
       "      <td>s1366</td>\n",
       "      <td>TV Show</td>\n",
       "      <td>Disney Kirby Buckets</td>\n",
       "      <td>NaN</td>\n",
       "      <td>Jacob Bertrand Mekai Curtis Cade Sutton Olivia...</td>\n",
       "      <td>United States</td>\n",
       "      <td>NaT</td>\n",
       "      <td>2014</td>\n",
       "      <td>TV-Y7</td>\n",
       "      <td>3 Seasons</td>\n",
       "      <td>Action-Adventure</td>\n",
       "      <td>Welcome to Kirby's world! It's rude and sketchy.</td>\n",
       "      <td>-1</td>\n",
       "    </tr>\n",
       "    <tr>\n",
       "      <th>1366</th>\n",
       "      <td>s1367</td>\n",
       "      <td>TV Show</td>\n",
       "      <td>Disney Mech-X4</td>\n",
       "      <td>NaN</td>\n",
       "      <td>Nathaniel Potvin Raymond Cham Kamran Lucas Pea...</td>\n",
       "      <td>Canada</td>\n",
       "      <td>NaT</td>\n",
       "      <td>2016</td>\n",
       "      <td>TV-Y7</td>\n",
       "      <td>2 Seasons</td>\n",
       "      <td>Action-Adventure</td>\n",
       "      <td>Ryan discovers his ability to control a giant ...</td>\n",
       "      <td>-1</td>\n",
       "    </tr>\n",
       "    <tr>\n",
       "      <th>1367</th>\n",
       "      <td>s1368</td>\n",
       "      <td>TV Show</td>\n",
       "      <td>Imagination Movers</td>\n",
       "      <td>NaN</td>\n",
       "      <td>Rich Collins Dave Poche Scott Durbin Scott Smi...</td>\n",
       "      <td>United States</td>\n",
       "      <td>NaT</td>\n",
       "      <td>2008</td>\n",
       "      <td>TV-Y</td>\n",
       "      <td>3 Seasons</td>\n",
       "      <td>Animation</td>\n",
       "      <td>Rock out with the Imagination Movers Disney Ju...</td>\n",
       "      <td>-1</td>\n",
       "    </tr>\n",
       "  </tbody>\n",
       "</table>\n",
       "<p>1368 rows × 13 columns</p>\n",
       "</div>"
      ],
      "text/plain": [
       "     show_id     type                           title  \\\n",
       "0         s1    Movie                   A Spark Story   \n",
       "1         s2    Movie                  Spooky Buddies   \n",
       "2         s3    Movie          The Fault in Our Stars   \n",
       "3         s4  TV Show                 Dog: Impossible   \n",
       "4         s5  TV Show  Spidey And His Amazing Friends   \n",
       "...      ...      ...                             ...   \n",
       "1363   s1364    Movie          The Sword in the Stone   \n",
       "1364   s1365    Movie                 Those Calloways   \n",
       "1365   s1366  TV Show            Disney Kirby Buckets   \n",
       "1366   s1367  TV Show                  Disney Mech-X4   \n",
       "1367   s1368  TV Show              Imagination Movers   \n",
       "\n",
       "                       director  \\\n",
       "0     Jason Sterman Leanne Dare   \n",
       "1                  Robert Vince   \n",
       "2                    Josh Boone   \n",
       "3                           NaN   \n",
       "4                           NaN   \n",
       "...                         ...   \n",
       "1363        Wolfgang Reitherman   \n",
       "1364               Norman Tokar   \n",
       "1365                        NaN   \n",
       "1366                        NaN   \n",
       "1367                        NaN   \n",
       "\n",
       "                                                   cast         country  \\\n",
       "0                          Apthon Corbin Louis Gonzales  United Kingdom   \n",
       "1     Tucker Albrizzi Diedrich Bader Ameko Eks Mass ...          Canada   \n",
       "2     Shailene Woodley Ansel Elgort Laura Dern Sam T...   United States   \n",
       "3                                          Matt Beisner   United States   \n",
       "4     Benjamin Valic Lily Sanfelippo Jakari Fraser D...   United States   \n",
       "...                                                 ...             ...   \n",
       "1363  Sebastian Cabot Karl Swenson Rickie Sorensen J...   United States   \n",
       "1364  Brian Keith Vera Miles Brandon de Wilde Walter...   United States   \n",
       "1365  Jacob Bertrand Mekai Curtis Cade Sutton Olivia...   United States   \n",
       "1366  Nathaniel Potvin Raymond Cham Kamran Lucas Pea...          Canada   \n",
       "1367  Rich Collins Dave Poche Scott Durbin Scott Smi...   United States   \n",
       "\n",
       "     date_added  release_year rating   duration         listed_in  \\\n",
       "0    2021-09-24          2021  TV-PG     88 min       Documentary   \n",
       "1    2021-09-24          2011      G     93 min         Animation   \n",
       "2    2021-09-24          2014  PG-13    127 min             Drama   \n",
       "3    2021-09-22          2019  TV-PG  2 Seasons            Family   \n",
       "4    2021-09-22          2021   TV-Y   1 Season         Animation   \n",
       "...         ...           ...    ...        ...               ...   \n",
       "1363 2019-10-01          1963      G     80 min         Animation   \n",
       "1364 2019-10-01          1965     PG    132 min            Family   \n",
       "1365        NaT          2014  TV-Y7  3 Seasons  Action-Adventure   \n",
       "1366        NaT          2016  TV-Y7  2 Seasons  Action-Adventure   \n",
       "1367        NaT          2008   TV-Y  3 Seasons         Animation   \n",
       "\n",
       "                                            description  date_added_month  \n",
       "0     Two Pixar filmmakers strive to bring their uni...                 9  \n",
       "1     The puppies go on a spooky adventure through a...                 9  \n",
       "2     Hazel and Gus share a love that sweeps them on...                 9  \n",
       "3     Matt Beisner uses unique approaches to modifyi...                 9  \n",
       "4     Spidey teams up with pals to become The Spidey...                 9  \n",
       "...                                                 ...               ...  \n",
       "1363  Merlin trains a young orphan who's destined to...                10  \n",
       "1364  A strong-willed family struggles to establish ...                10  \n",
       "1365   Welcome to Kirby's world! It's rude and sketchy.                -1  \n",
       "1366  Ryan discovers his ability to control a giant ...                -1  \n",
       "1367  Rock out with the Imagination Movers Disney Ju...                -1  \n",
       "\n",
       "[1368 rows x 13 columns]"
      ]
     },
     "execution_count": 66,
     "metadata": {},
     "output_type": "execute_result"
    }
   ],
   "source": []
  },
  {
   "cell_type": "code",
   "execution_count": 68,
   "id": "2783512e",
   "metadata": {},
   "outputs": [
    {
     "data": {
      "text/html": [
       "<div>\n",
       "<style scoped>\n",
       "    .dataframe tbody tr th:only-of-type {\n",
       "        vertical-align: middle;\n",
       "    }\n",
       "\n",
       "    .dataframe tbody tr th {\n",
       "        vertical-align: top;\n",
       "    }\n",
       "\n",
       "    .dataframe thead th {\n",
       "        text-align: right;\n",
       "    }\n",
       "</style>\n",
       "<table border=\"1\" class=\"dataframe\">\n",
       "  <thead>\n",
       "    <tr style=\"text-align: right;\">\n",
       "      <th></th>\n",
       "      <th>type</th>\n",
       "      <th>ratings_count</th>\n",
       "    </tr>\n",
       "    <tr>\n",
       "      <th>rating</th>\n",
       "      <th></th>\n",
       "      <th></th>\n",
       "    </tr>\n",
       "  </thead>\n",
       "  <tbody>\n",
       "    <tr>\n",
       "      <th>PG</th>\n",
       "      <td>TV Show</td>\n",
       "      <td>1.0</td>\n",
       "    </tr>\n",
       "    <tr>\n",
       "      <th>TV-14</th>\n",
       "      <td>TV Show</td>\n",
       "      <td>36.0</td>\n",
       "    </tr>\n",
       "    <tr>\n",
       "      <th>TV-G</th>\n",
       "      <td>TV Show</td>\n",
       "      <td>83.0</td>\n",
       "    </tr>\n",
       "    <tr>\n",
       "      <th>TV-PG</th>\n",
       "      <td>TV Show</td>\n",
       "      <td>110.0</td>\n",
       "    </tr>\n",
       "    <tr>\n",
       "      <th>TV-Y</th>\n",
       "      <td>TV Show</td>\n",
       "      <td>46.0</td>\n",
       "    </tr>\n",
       "    <tr>\n",
       "      <th>TV-Y7</th>\n",
       "      <td>TV Show</td>\n",
       "      <td>94.0</td>\n",
       "    </tr>\n",
       "    <tr>\n",
       "      <th>TV-Y7-FV</th>\n",
       "      <td>TV Show</td>\n",
       "      <td>6.0</td>\n",
       "    </tr>\n",
       "  </tbody>\n",
       "</table>\n",
       "</div>"
      ],
      "text/plain": [
       "             type  ratings_count\n",
       "rating                          \n",
       "PG        TV Show            1.0\n",
       "TV-14     TV Show           36.0\n",
       "TV-G      TV Show           83.0\n",
       "TV-PG     TV Show          110.0\n",
       "TV-Y      TV Show           46.0\n",
       "TV-Y7     TV Show           94.0\n",
       "TV-Y7-FV  TV Show            6.0"
      ]
     },
     "execution_count": 68,
     "metadata": {},
     "output_type": "execute_result"
    }
   ],
   "source": [
    "## Number of TV Shows in Rating \n",
    "disney_plus\n",
    "\n",
    "rating_TV= disney_plus.groupby(['rating','type'])['rating'].count().reset_index(name='ratings_count')\n",
    "rating_TV=rating_TV.set_index('rating')\n",
    "rating_TV\n",
    "filter = rating_TV[\"type\"]==\"TV Show\"\n",
    "  \n",
    "# filtering data\n",
    "rating_TV = rating_TV.where(filter).dropna()\n",
    "rating_TV\n"
   ]
  }
 ],
 "metadata": {
  "kernelspec": {
   "display_name": "Python 3 (ipykernel)",
   "language": "python",
   "name": "python3"
  },
  "language_info": {
   "codemirror_mode": {
    "name": "ipython",
    "version": 3
   },
   "file_extension": ".py",
   "mimetype": "text/x-python",
   "name": "python",
   "nbconvert_exporter": "python",
   "pygments_lexer": "ipython3",
   "version": "3.9.12"
  }
 },
 "nbformat": 4,
 "nbformat_minor": 5
}
